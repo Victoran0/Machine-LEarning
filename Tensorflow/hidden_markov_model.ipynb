{
  "nbformat": 4,
  "nbformat_minor": 0,
  "metadata": {
    "colab": {
      "provenance": []
    },
    "kernelspec": {
      "name": "python3",
      "display_name": "Python 3"
    },
    "language_info": {
      "name": "python"
    }
  },
  "cells": [
    {
      "cell_type": "markdown",
      "source": [
        "### Imports and Setups"
      ],
      "metadata": {
        "id": "jo_2wALeKuAA"
      }
    },
    {
      "cell_type": "code",
      "execution_count": 3,
      "metadata": {
        "id": "4GfB6o61JcWK"
      },
      "outputs": [],
      "source": [
        "import tensorflow_probability as tfp\n",
        "import tensorflow as tf"
      ]
    },
    {
      "cell_type": "markdown",
      "source": [
        "### Weather Model\n",
        "##### Taken direclty from the TensorFlow documentation (https://www.tensorflow.org/probability/api_docs/python/tfp/distributions/HiddenMarkovModel).\n",
        "\n",
        "##### We will model a simple weather system and try to predict the temperature on each day given the following information.\n",
        "\n",
        "> ##### 1. Cold days are encoded by a 0 and hot days are encoded by a 1.\n",
        "> ##### 2. The first day in our sequence has an 80% chance of being cold.\n",
        "> ##### 3. A cold day has a 30% chance of being followed by a hot day.\n",
        "> ##### 4. A hot day has a 20% chance of being followed by a cold day.\n",
        "> ##### 5. On each day the temperature is normally distributed with mean and standard deviation 0 and 5 on a cold day and mean and standard deviation 15 and 10 on a hot day.\n",
        "##### If you're unfamiliar with standard deviation it can be put simply as the range of expected values.\n",
        "\n",
        "##### In this example, on a hot day the average temperature is 15 and ranges from 5 to 25.\n",
        "\n",
        "##### To model this in TensorFlow we will do the following."
      ],
      "metadata": {
        "id": "cZwnR7k_Lh33"
      }
    },
    {
      "cell_type": "code",
      "source": [
        "tfd = tfp.distributions\n",
        "initial_distribution = tfd.Categorical(probs=[0.8, 0.2]) # refers to point 2 above\n",
        "transition_distribution = tfd.Categorical(probs=[[0.7, 0.3],\n",
        "                                                 [0.2, 0.8]]) # refers to point 3&4 above\n",
        "observation_distribution = tfd.Normal(loc=[0., 15.,], scale=[5., 10.]) # refer to point 5 above\n",
        "\n",
        "# The loc argument epresents the meaan and the scale is the standard deviation\n",
        "# We inserted . after the loc and scale values because they need to be float values"
      ],
      "metadata": {
        "id": "71I_YhngLoOQ"
      },
      "execution_count": 9,
      "outputs": []
    },
    {
      "cell_type": "markdown",
      "source": [
        "### We've now created distribution variables to model our system and it's time to create the hidden markov model"
      ],
      "metadata": {
        "id": "aFjcIKk8OcNB"
      }
    },
    {
      "cell_type": "code",
      "source": [
        "model = tfd.HiddenMarkovModel(\n",
        "    initial_distribution=initial_distribution,\n",
        "    transition_distribution=transition_distribution,\n",
        "    observation_distribution=observation_distribution,\n",
        "    num_steps=7\n",
        ")"
      ],
      "metadata": {
        "id": "04Ki_Te7Okf8"
      },
      "execution_count": 10,
      "outputs": []
    },
    {
      "cell_type": "markdown",
      "source": [
        "#### The number of steps represents the number o days that we would like to predict information for. And we have selected 7 days, one week.\n",
        "#### To get the expected temperatures on each day, we can do the following."
      ],
      "metadata": {
        "id": "z-DEbHy8SzQw"
      }
    },
    {
      "cell_type": "code",
      "source": [
        "mean = model.mean()\n",
        "\n",
        "# due to the way tensorflow works on a lower level we need to evaluate part of the graph from within a session the see the value of this tensor\n",
        "\n",
        "# in hte new version of tensorflow, we need to use tf.compat.v1.Session() rather than just tf.Session()\n",
        "with tf.compat.v1.Session() as sess:\n",
        "  print(mean.numpy())"
      ],
      "metadata": {
        "colab": {
          "base_uri": "https://localhost:8080/"
        },
        "id": "BjsaYBNqTBy9",
        "outputId": "fdd52202-c4a9-4a76-813b-080022a28f86"
      },
      "execution_count": 11,
      "outputs": [
        {
          "output_type": "stream",
          "name": "stdout",
          "text": [
            "[3.        5.9999995 7.4999995 8.25      8.625001  8.812501  8.90625  ]\n"
          ]
        }
      ]
    }
  ]
}