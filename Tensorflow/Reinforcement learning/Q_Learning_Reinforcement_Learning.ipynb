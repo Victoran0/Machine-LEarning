{
  "nbformat": 4,
  "nbformat_minor": 0,
  "metadata": {
    "colab": {
      "provenance": []
    },
    "kernelspec": {
      "name": "python3",
      "display_name": "Python 3"
    },
    "language_info": {
      "name": "python"
    }
  },
  "cells": [
    {
      "cell_type": "markdown",
      "source": [
        "### Imports\n",
        "We are going to be using the Open AI's Gym. The Open AI gym was developed so programmers could practise machine learning using a unique environment"
      ],
      "metadata": {
        "id": "Kf_aoQol3Cm7"
      }
    },
    {
      "cell_type": "code",
      "source": [
        "import gym"
      ],
      "metadata": {
        "id": "FcircReQ3rrr"
      },
      "execution_count": 1,
      "outputs": []
    },
    {
      "cell_type": "markdown",
      "source": [
        "Once gym is imported, we can load an environment using the line\n",
        "``` gym.make('environment') ```"
      ],
      "metadata": {
        "id": "5C_K9CA_3vNS"
      }
    },
    {
      "cell_type": "code",
      "source": [
        "env = gym.make('FrozenLake-v1', map_name='4x4', render_mode='human') # We are going to use the FrozenLake environment"
      ],
      "metadata": {
        "id": "9qZM3Wsw4BT3"
      },
      "execution_count": 105,
      "outputs": []
    },
    {
      "cell_type": "markdown",
      "source": [
        "There are a few other commands that can be used to interact and get information about the environment"
      ],
      "metadata": {
        "id": "BxKm3bEG4MY0"
      }
    },
    {
      "cell_type": "code",
      "source": [
        "print(env.observation_space.n) # get number of states\n",
        "print(env.action_space.n) # get number of actions"
      ],
      "metadata": {
        "colab": {
          "base_uri": "https://localhost:8080/"
        },
        "id": "TgVDG7pU4ThE",
        "outputId": "daaa4a26-a696-457a-e9cd-e6d491b308eb"
      },
      "execution_count": 106,
      "outputs": [
        {
          "output_type": "stream",
          "name": "stdout",
          "text": [
            "16\n",
            "4\n"
          ]
        }
      ]
    },
    {
      "cell_type": "code",
      "source": [
        "env.reset() # reset environment to default state"
      ],
      "metadata": {
        "colab": {
          "base_uri": "https://localhost:8080/"
        },
        "id": "jNVVSUIt5ghw",
        "outputId": "310d6ee0-a05b-41e5-e3ea-6657a5f520d5"
      },
      "execution_count": 107,
      "outputs": [
        {
          "output_type": "execute_result",
          "data": {
            "text/plain": [
              "0"
            ]
          },
          "metadata": {},
          "execution_count": 107
        }
      ]
    },
    {
      "cell_type": "code",
      "source": [
        "action = env.action_space.sample() # get a random action"
      ],
      "metadata": {
        "id": "CJ-x4puW5l5d"
      },
      "execution_count": 108,
      "outputs": []
    },
    {
      "cell_type": "code",
      "source": [
        "new_state, reward, done, info = env.step(action) # take action, notice it returns information about the action"
      ],
      "metadata": {
        "id": "QLGKpHry5pyQ"
      },
      "execution_count": 109,
      "outputs": []
    },
    {
      "cell_type": "code",
      "source": [
        "print(env.render()) # render the GUI for the environment (ANSI and RGB methods would return our result but rneder shows it in the terminal)"
      ],
      "metadata": {
        "colab": {
          "base_uri": "https://localhost:8080/"
        },
        "id": "A13uKZ0s5wPi",
        "outputId": "fc226cf4-7df9-404f-973b-ea061d5b23fd"
      },
      "execution_count": 110,
      "outputs": [
        {
          "output_type": "stream",
          "name": "stdout",
          "text": [
            "None\n"
          ]
        }
      ]
    }
  ]
}