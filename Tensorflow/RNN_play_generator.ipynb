{
  "nbformat": 4,
  "nbformat_minor": 0,
  "metadata": {
    "colab": {
      "provenance": [],
      "gpuType": "T4"
    },
    "kernelspec": {
      "name": "python3",
      "display_name": "Python 3"
    },
    "language_info": {
      "name": "python"
    },
    "accelerator": "GPU"
  },
  "cells": [
    {
      "cell_type": "code",
      "execution_count": 1,
      "metadata": {
        "id": "I5GR19D25_mh"
      },
      "outputs": [],
      "source": [
        "from keras.preprocessing import sequence\n",
        "import keras\n",
        "import tensorflow as tf\n",
        "import os\n",
        "import numpy as np"
      ]
    },
    {
      "cell_type": "markdown",
      "source": [
        "### Dataset\n",
        "For this example, we only need one piece of training data. In fact, we can write our own poem/play and pass them to the network for training if we'd like. However, to make things easy, we'll use an extract from a shakespeare play\n"
      ],
      "metadata": {
        "id": "PYQWGVJq69Xw"
      }
    },
    {
      "cell_type": "code",
      "source": [
        "path_to_file = tf.keras.utils.get_file('shakespeare.txt', 'https://storage.googleapis.com/download.tensorflow.org/data/shakespeare.txt')"
      ],
      "metadata": {
        "colab": {
          "base_uri": "https://localhost:8080/"
        },
        "id": "PSZB26DQDcRi",
        "outputId": "a8c411f3-2dc1-4966-b8e2-81ce717da8a4"
      },
      "execution_count": 2,
      "outputs": [
        {
          "output_type": "stream",
          "name": "stdout",
          "text": [
            "Downloading data from https://storage.googleapis.com/download.tensorflow.org/data/shakespeare.txt\n",
            "1115394/1115394 [==============================] - 0s 0us/step\n"
          ]
        }
      ]
    },
    {
      "cell_type": "markdown",
      "source": [
        "### Loading Your Own Data\n",
        "To load your own data you'll need to upload a file from the dialog below. Then, you'll need to follow the steps from above but load in this new file instead"
      ],
      "metadata": {
        "id": "DvzJCdq9ywRn"
      }
    },
    {
      "cell_type": "code",
      "source": [
        "from google.colab import files\n",
        "path_to_file = list(files.upload().keys())[0]"
      ],
      "metadata": {
        "id": "neTJibHJzDcy"
      },
      "execution_count": null,
      "outputs": []
    },
    {
      "cell_type": "markdown",
      "source": [
        "### Read Contents of File\n",
        "Let's look at the contents of the file"
      ],
      "metadata": {
        "id": "Mk4SikpXztuk"
      }
    },
    {
      "cell_type": "code",
      "source": [
        "# Read, then decode for py2 compat.\n",
        "text = open(path_to_file, 'rb').read().decode(encoding='utf-8')\n",
        "# Length of text is the number of characters in it\n",
        "print('Length of text: {} characters'.format(len(text)))"
      ],
      "metadata": {
        "colab": {
          "base_uri": "https://localhost:8080/"
        },
        "id": "6AlpCKWmz1uB",
        "outputId": "2d172335-1e1a-4bba-bcf4-150d413cb964"
      },
      "execution_count": 3,
      "outputs": [
        {
          "output_type": "stream",
          "name": "stdout",
          "text": [
            "Length of text: 1115394 characters\n"
          ]
        }
      ]
    },
    {
      "cell_type": "code",
      "source": [
        "# Take a look aht the first 250 characters in text\n",
        "print(text[:250])"
      ],
      "metadata": {
        "colab": {
          "base_uri": "https://localhost:8080/"
        },
        "id": "heBFZpqU0SzY",
        "outputId": "86427494-493b-469b-86e1-6366b85871bd"
      },
      "execution_count": 4,
      "outputs": [
        {
          "output_type": "stream",
          "name": "stdout",
          "text": [
            "First Citizen:\n",
            "Before we proceed any further, hear me speak.\n",
            "\n",
            "All:\n",
            "Speak, speak.\n",
            "\n",
            "First Citizen:\n",
            "You are all resolved rather to die than to famish?\n",
            "\n",
            "All:\n",
            "Resolved. resolved.\n",
            "\n",
            "First Citizen:\n",
            "First, you know Caius Marcius is chief enemy to the people.\n",
            "\n"
          ]
        }
      ]
    },
    {
      "cell_type": "markdown",
      "source": [
        "### Encoding\n",
        "Since this text isn't encoded yet, we'll need to do that ourself. We are going to encode each unique character as a different integer."
      ],
      "metadata": {
        "id": "ksbG1ddf0X1d"
      }
    },
    {
      "cell_type": "code",
      "source": [
        "vocab = sorted(set(text))\n",
        "# Creating a mapping from unique characters to indices\n",
        "char2idx = {u:i for i, u in enumerate(vocab)}\n",
        "idx2char = np.array(vocab)\n",
        "\n",
        "def text_to_int(text):\n",
        "  return np.array([char2idx[c] for c in text])\n",
        "\n",
        "text_as_int = text_to_int(text)"
      ],
      "metadata": {
        "id": "Ml-GRYbA0kLw"
      },
      "execution_count": 5,
      "outputs": []
    },
    {
      "cell_type": "code",
      "source": [
        "# let's look at how part of our text is encoded\n",
        "print(\"Text:\", text[:13])\n",
        "print(\"Encoded:\", text_to_int(text[:13]))"
      ],
      "metadata": {
        "id": "5x7nOBQG1QNr",
        "colab": {
          "base_uri": "https://localhost:8080/"
        },
        "outputId": "2d356d91-be7d-4db0-862c-646050dd80c9"
      },
      "execution_count": 6,
      "outputs": [
        {
          "output_type": "stream",
          "name": "stdout",
          "text": [
            "Text: First Citizen\n",
            "Encoded: [18 47 56 57 58  1 15 47 58 47 64 43 52]\n"
          ]
        }
      ]
    },
    {
      "cell_type": "markdown",
      "source": [
        "And here we will make a function that can convert our numeric values to text."
      ],
      "metadata": {
        "id": "3hjKv9tVh3Ne"
      }
    },
    {
      "cell_type": "code",
      "source": [
        "def int_to_text(ints):\n",
        "  try:\n",
        "    ints = ints.numpy()\n",
        "  except:\n",
        "    pass\n",
        "  return ''.join(idx2char[ints])\n",
        "\n",
        "print(int_to_text(text_as_int[:13]))"
      ],
      "metadata": {
        "colab": {
          "base_uri": "https://localhost:8080/"
        },
        "id": "soo0J-RAkUhq",
        "outputId": "6746bd8d-a1e2-4423-f025-a1911a6b21fe"
      },
      "execution_count": 7,
      "outputs": [
        {
          "output_type": "stream",
          "name": "stdout",
          "text": [
            "First Citizen\n"
          ]
        }
      ]
    },
    {
      "cell_type": "markdown",
      "source": [
        "### Creating Training Examples\n",
        "Remember our task is to feed the model a sequence and have it return to us the next character. THis means we need to split our text data from above into many shorter sequences that we can pass to the model as training examples.\n",
        "The training examples we will prepare will use a seq_length sequence as input and a seq_length sequence as the output where that sequence is the original sequence shifted one letter to the right. For example:\n",
        "> input: Hell | output: ello\n",
        "\n",
        "Our first step will be to create a stream of characters from our text data."
      ],
      "metadata": {
        "id": "o098CA_mt_ra"
      }
    },
    {
      "cell_type": "code",
      "source": [
        "seq_length = 100 # length of sequence\n",
        "example_per_epoch = len(text)//(seq_length+1)\n",
        "\n",
        "# Create training examples / targets\n",
        "char_dataset = tf.data.Dataset.from_tensor_slices(text_as_int)"
      ],
      "metadata": {
        "id": "69dD65zOvNoc"
      },
      "execution_count": 8,
      "outputs": []
    },
    {
      "cell_type": "markdown",
      "source": [
        "Next, we can use the batch method to turn this stream of characters into batches of desired length."
      ],
      "metadata": {
        "id": "sd9sN5KltD2p"
      }
    },
    {
      "cell_type": "code",
      "source": [
        "sequences = char_dataset.batch(seq_length+1, drop_remainder=True)"
      ],
      "metadata": {
        "id": "c3l2mAQdtK8w"
      },
      "execution_count": 9,
      "outputs": []
    },
    {
      "cell_type": "markdown",
      "source": [
        "Now we need to use these sequences of length 101 and split them into input and output"
      ],
      "metadata": {
        "id": "DamoEi_ltakB"
      }
    },
    {
      "cell_type": "code",
      "source": [
        "def split_input_target(chunk): # for the example: Hello\n",
        "  input_text = chunk[:-1] # hell\n",
        "  target_text = chunk[1:] # ello\n",
        "  return input_text, target_text # hell, ello\n",
        "\n",
        "dataset = sequences.map(split_input_target) # We use map to apply the above function to every entry"
      ],
      "metadata": {
        "id": "Rnxp2rOKtgjO"
      },
      "execution_count": 10,
      "outputs": []
    },
    {
      "cell_type": "code",
      "source": [
        "for x,y in dataset.take(2):\n",
        "  print(\"\\n\\nEXAMPLE\\n\")\n",
        "  print(\"INPUT\")\n",
        "  print(int_to_text(x))\n",
        "  print(\"\\nOUTPUT\")\n",
        "  print(int_to_text(y))"
      ],
      "metadata": {
        "colab": {
          "base_uri": "https://localhost:8080/"
        },
        "id": "RTJ027vBu2ox",
        "outputId": "2cb22c6d-8b9a-4f88-95ce-caf5c2a75565"
      },
      "execution_count": 11,
      "outputs": [
        {
          "output_type": "stream",
          "name": "stdout",
          "text": [
            "\n",
            "\n",
            "EXAMPLE\n",
            "\n",
            "INPUT\n",
            "First Citizen:\n",
            "Before we proceed any further, hear me speak.\n",
            "\n",
            "All:\n",
            "Speak, speak.\n",
            "\n",
            "First Citizen:\n",
            "You\n",
            "\n",
            "OUTPUT\n",
            "irst Citizen:\n",
            "Before we proceed any further, hear me speak.\n",
            "\n",
            "All:\n",
            "Speak, speak.\n",
            "\n",
            "First Citizen:\n",
            "You \n",
            "\n",
            "\n",
            "EXAMPLE\n",
            "\n",
            "INPUT\n",
            "are all resolved rather to die than to famish?\n",
            "\n",
            "All:\n",
            "Resolved. resolved.\n",
            "\n",
            "First Citizen:\n",
            "First, you \n",
            "\n",
            "OUTPUT\n",
            "re all resolved rather to die than to famish?\n",
            "\n",
            "All:\n",
            "Resolved. resolved.\n",
            "\n",
            "First Citizen:\n",
            "First, you k\n"
          ]
        }
      ]
    },
    {
      "cell_type": "markdown",
      "source": [
        "Finally, we need to make training batches."
      ],
      "metadata": {
        "id": "ro8GiC4vvKKC"
      }
    },
    {
      "cell_type": "code",
      "source": [
        "BATCH_SIZE = 64\n",
        "VOCAB_SIZE = len(vocab) # vocab is number of unique characters\n",
        "EMBEDDING_DIM = 256 # Embedding dimension\n",
        "RNN_UNITS = 1024\n",
        "\n",
        "# Buffer size to shuffle the dataset\n",
        "# (TF data is designed to work with possibly infinite sequences.\n",
        "# So it doesn't attempt to shuffle the entire sequence in memory. Instead,\n",
        "# it maintains a buffer in which it shuffles elements).\n",
        "BUFFER_SIZE = 10000\n",
        "\n",
        "data = dataset.shuffle(BUFFER_SIZE).batch(BATCH_SIZE, drop_remainder=True)"
      ],
      "metadata": {
        "id": "Ew2SHCmzw9hb"
      },
      "execution_count": 12,
      "outputs": []
    },
    {
      "cell_type": "markdown",
      "source": [
        "### Building the Model\n",
        "Now, it is time to build the model. We will use an embedding layer a LSTM and one dense layer that contains a node for each unique character in our training data. The dense layer will give us a probability distribution over all nodes."
      ],
      "metadata": {
        "id": "c9oiIDAuzQyE"
      }
    },
    {
      "cell_type": "code",
      "source": [
        "def build_model(vocab_size, embedding_dim, rnn_units, batch_size):\n",
        "  model = tf.keras.Sequential([\n",
        "      tf.keras.layers.Embedding(vocab_size, embedding_dim,\n",
        "                                batch_input_shape=[batch_size, None]),\n",
        "      tf.keras.layers.LSTM(rnn_units,\n",
        "                           return_sequences=True,\n",
        "                           stateful=True,\n",
        "                           recurrent_initializer='glorot_uniform'),\n",
        "      tf.keras.layers.Dense(vocab_size)\n",
        "  ])\n",
        "  return model\n",
        "\n",
        "model = build_model(VOCAB_SIZE, EMBEDDING_DIM, RNN_UNITS, BATCH_SIZE)\n",
        "model.summary()"
      ],
      "metadata": {
        "colab": {
          "base_uri": "https://localhost:8080/"
        },
        "id": "X-jWELINzlZY",
        "outputId": "3e9a310f-9e78-465f-9800-5129dc2c26d1"
      },
      "execution_count": 13,
      "outputs": [
        {
          "output_type": "stream",
          "name": "stdout",
          "text": [
            "Model: \"sequential\"\n",
            "_________________________________________________________________\n",
            " Layer (type)                Output Shape              Param #   \n",
            "=================================================================\n",
            " embedding (Embedding)       (64, None, 256)           16640     \n",
            "                                                                 \n",
            " lstm (LSTM)                 (64, None, 1024)          5246976   \n",
            "                                                                 \n",
            " dense (Dense)               (64, None, 65)            66625     \n",
            "                                                                 \n",
            "=================================================================\n",
            "Total params: 5330241 (20.33 MB)\n",
            "Trainable params: 5330241 (20.33 MB)\n",
            "Non-trainable params: 0 (0.00 Byte)\n",
            "_________________________________________________________________\n"
          ]
        }
      ]
    },
    {
      "cell_type": "markdown",
      "source": [
        "### Creating a Loss Function\n",
        "Now, we are actually going to create our own loss function for this problem. This is because our model will output a (64, sequence_length, 65) shaped tensor that represents the probability distribution of each character at each timestep for every sequence in the batch.\n",
        "\n",
        "\n",
        "However, before we do that let's have a look at a sample input and the output from our untrained model. This is so we can understand what the model is actually giving us."
      ],
      "metadata": {
        "id": "TfdThOG30yRj"
      }
    },
    {
      "cell_type": "code",
      "source": [
        "for input_example_batch, target_example_batch in data.take(1):\n",
        "  example_batch_predictions = model(input_example_batch) # ask our model for a prediction on our first batch of training data\n",
        "  print(example_batch_predictions.shape, \"# (batch_size, sequence_length, vocab_size)\") # print out the output shape"
      ],
      "metadata": {
        "id": "3l7SMPCJ4qgJ",
        "colab": {
          "base_uri": "https://localhost:8080/"
        },
        "outputId": "0601b62f-61c2-423f-9d9f-7d0408648377"
      },
      "execution_count": 14,
      "outputs": [
        {
          "output_type": "stream",
          "name": "stdout",
          "text": [
            "(64, 100, 65) # (batch_size, sequence_length, vocab_size)\n"
          ]
        }
      ]
    },
    {
      "cell_type": "code",
      "source": [
        "# we can see that the prediction is an array of 64 arrays, one for each entry in the batch\n",
        "print(len(example_batch_predictions))\n",
        "print(example_batch_predictions)"
      ],
      "metadata": {
        "id": "JxWsvn3h5oS5",
        "colab": {
          "base_uri": "https://localhost:8080/"
        },
        "outputId": "9d8a6bea-4074-4fff-c1bc-1959bc24fdd3"
      },
      "execution_count": 15,
      "outputs": [
        {
          "output_type": "stream",
          "name": "stdout",
          "text": [
            "64\n",
            "tf.Tensor(\n",
            "[[[ 1.24310679e-03 -1.38775771e-03  7.80540239e-03 ... -5.07937372e-03\n",
            "   -2.30725214e-04  3.16768931e-03]\n",
            "  [ 3.43893608e-03 -4.32379870e-03  5.31213637e-03 ... -5.38396975e-03\n",
            "   -1.12600857e-03  2.63892487e-03]\n",
            "  [-1.36967446e-03 -1.89426041e-03 -1.67591323e-03 ... -3.42722866e-03\n",
            "    1.25501095e-03  1.35820045e-03]\n",
            "  ...\n",
            "  [-1.88882537e-02  1.02675278e-02  1.08020399e-02 ... -9.61457193e-03\n",
            "   -2.32856983e-04  5.05560404e-03]\n",
            "  [-2.01928206e-02  1.23879360e-02  1.08411992e-02 ... -3.10784951e-03\n",
            "   -1.83413678e-03  1.00526237e-03]\n",
            "  [-1.82020515e-02  1.24959527e-02  1.50073916e-02 ... -5.21414075e-03\n",
            "   -1.14089798e-03  1.66952447e-03]]\n",
            "\n",
            " [[ 2.53625354e-03 -3.39479838e-03 -5.32922160e-04 ... -1.42911170e-03\n",
            "    2.08990343e-04  1.01084192e-03]\n",
            "  [ 4.96663526e-03 -2.33011879e-03  2.52894568e-03 ...  2.47258181e-03\n",
            "    4.21032170e-03  1.18804863e-04]\n",
            "  [ 1.59818504e-03 -3.21005005e-03 -8.94901808e-04 ...  9.15822200e-03\n",
            "    3.37169529e-03  1.03145430e-03]\n",
            "  ...\n",
            "  [-2.78102197e-02  6.36365730e-05  4.61085793e-03 ... -1.59873220e-03\n",
            "    4.43386566e-03 -3.73594277e-03]\n",
            "  [-2.71601733e-02  1.10944035e-04  4.78415983e-03 ...  6.24282751e-04\n",
            "    7.38468766e-03 -6.86564250e-03]\n",
            "  [-2.59793140e-02  4.00354806e-03  6.55929511e-03 ... -1.37487310e-03\n",
            "    1.04960650e-02 -5.12790680e-03]]\n",
            "\n",
            " [[-9.71731171e-03 -4.42148140e-03 -3.54754692e-03 ... -1.37349113e-03\n",
            "   -1.00986240e-03 -3.98884108e-03]\n",
            "  [-9.23110917e-03 -8.06863140e-03 -2.70241569e-03 ...  9.22342064e-04\n",
            "   -3.71075817e-04 -1.33051700e-03]\n",
            "  [-1.14958519e-02 -7.14857364e-03 -3.74684110e-03 ...  2.72521307e-03\n",
            "   -2.15946860e-03  5.17461915e-04]\n",
            "  ...\n",
            "  [-5.50331455e-03 -9.87079577e-04 -6.04624208e-03 ...  9.80305299e-03\n",
            "    9.63058695e-03  1.84357364e-03]\n",
            "  [-8.76479223e-03  1.07502250e-03 -1.48965663e-03 ...  5.10663539e-03\n",
            "    1.10621881e-02  1.80586567e-03]\n",
            "  [-1.03571992e-02  1.55667236e-04  1.44217524e-03 ...  3.56835336e-03\n",
            "    1.17627420e-02  1.67406863e-04]]\n",
            "\n",
            " ...\n",
            "\n",
            " [[-3.42674414e-03 -2.20625219e-03 -3.16791143e-03 ...  2.17694230e-03\n",
            "   -2.01463816e-03  4.40687814e-04]\n",
            "  [-5.39535377e-03  3.24540865e-03 -4.12573805e-03 ...  3.31953354e-03\n",
            "   -2.55605695e-03  1.49326201e-03]\n",
            "  [-7.06594065e-03  4.95047076e-03 -1.78444188e-03 ...  2.38288194e-03\n",
            "    1.18270610e-03  3.95561219e-05]\n",
            "  ...\n",
            "  [-2.33043581e-02  8.06797296e-03  6.07156241e-03 ... -4.11140546e-03\n",
            "    2.21492862e-03 -7.69822299e-03]\n",
            "  [-2.15716790e-02  7.75833568e-03  1.06976219e-02 ... -6.73126942e-03\n",
            "    4.39187652e-03 -2.96909548e-03]\n",
            "  [-2.35179104e-02  9.03258007e-03  9.96190216e-03 ... -1.41531602e-03\n",
            "    4.13513742e-03 -4.68611997e-03]]\n",
            "\n",
            " [[-3.53861344e-03  2.42100703e-03  1.61414489e-03 ... -1.01216778e-03\n",
            "    2.93309102e-03 -4.39409632e-05]\n",
            "  [-6.88634673e-03  5.88480523e-03  2.83958158e-03 ...  3.45129147e-03\n",
            "    9.78303957e-04 -1.70182914e-03]\n",
            "  [-8.16588942e-03  9.17223282e-03  2.10573548e-04 ...  3.74133466e-03\n",
            "    1.55383372e-04 -5.85224596e-04]\n",
            "  ...\n",
            "  [-1.68323237e-02  6.99216127e-03  2.93562445e-03 ...  4.99249436e-05\n",
            "   -5.32562518e-03 -4.15888149e-03]\n",
            "  [-2.32363753e-02  3.85701132e-04 -1.44628610e-03 ... -8.30393285e-04\n",
            "   -4.52276831e-03 -6.76800031e-03]\n",
            "  [-1.88160036e-02  2.62025185e-03 -4.09722794e-03 ...  1.00731617e-04\n",
            "   -8.75341333e-03 -9.20370873e-03]]\n",
            "\n",
            " [[-9.53260111e-04 -5.68707567e-03 -3.95872747e-04 ...  1.92128890e-03\n",
            "    2.58716056e-04  1.23586203e-03]\n",
            "  [-1.07247904e-02 -8.20821524e-03 -2.69713905e-03 ...  4.02512960e-05\n",
            "   -6.37294841e-04 -2.31362134e-03]\n",
            "  [-1.47322565e-03 -6.62362948e-03 -2.27196631e-03 ...  1.35029468e-03\n",
            "    7.02336198e-04  3.75075848e-03]\n",
            "  ...\n",
            "  [-2.00384296e-02  2.11941567e-03 -1.95231964e-03 ... -4.17336356e-03\n",
            "    3.01867817e-03 -7.39579042e-03]\n",
            "  [-1.69154666e-02  1.05258180e-02 -2.72851251e-03 ... -8.79944116e-03\n",
            "    3.47033376e-03 -4.41303942e-03]\n",
            "  [-1.49113592e-02  6.85453322e-03 -2.20830599e-03 ... -6.51862379e-03\n",
            "    5.17963059e-03 -1.56003283e-04]]], shape=(64, 100, 65), dtype=float32)\n"
          ]
        }
      ]
    },
    {
      "cell_type": "code",
      "source": [
        "# Lets examine one preidction\n",
        "pred = example_batch_predictions[0]\n",
        "print(len(pred))\n",
        "print(pred)\n",
        "# Notice this is a 2d array of length 100, where each interior array is the prediction for the next character at each time step"
      ],
      "metadata": {
        "id": "OLAE0IEw50CZ",
        "colab": {
          "base_uri": "https://localhost:8080/"
        },
        "outputId": "8ca866fb-b4bc-47b8-8a85-64dafa832302"
      },
      "execution_count": 16,
      "outputs": [
        {
          "output_type": "stream",
          "name": "stdout",
          "text": [
            "100\n",
            "tf.Tensor(\n",
            "[[ 0.00124311 -0.00138776  0.0078054  ... -0.00507937 -0.00023073\n",
            "   0.00316769]\n",
            " [ 0.00343894 -0.0043238   0.00531214 ... -0.00538397 -0.00112601\n",
            "   0.00263892]\n",
            " [-0.00136967 -0.00189426 -0.00167591 ... -0.00342723  0.00125501\n",
            "   0.0013582 ]\n",
            " ...\n",
            " [-0.01888825  0.01026753  0.01080204 ... -0.00961457 -0.00023286\n",
            "   0.0050556 ]\n",
            " [-0.02019282  0.01238794  0.0108412  ... -0.00310785 -0.00183414\n",
            "   0.00100526]\n",
            " [-0.01820205  0.01249595  0.01500739 ... -0.00521414 -0.0011409\n",
            "   0.00166952]], shape=(100, 65), dtype=float32)\n"
          ]
        }
      ]
    },
    {
      "cell_type": "code",
      "source": [
        "# and finally, we'll look at a prediction at the first time step\n",
        "time_pred = pred[0]\n",
        "print(len(time_pred))\n",
        "print(time_pred)\n",
        "# and of course, its 65 values representing the probability of each character occuring next"
      ],
      "metadata": {
        "colab": {
          "base_uri": "https://localhost:8080/"
        },
        "id": "fRaG2c947Z2f",
        "outputId": "eb550230-fa7f-4970-b3dc-64706bc214ad"
      },
      "execution_count": 17,
      "outputs": [
        {
          "output_type": "stream",
          "name": "stdout",
          "text": [
            "65\n",
            "tf.Tensor(\n",
            "[ 1.2431068e-03 -1.3877577e-03  7.8054024e-03  1.7059306e-03\n",
            "  2.2184555e-03  1.8448047e-03 -3.2172566e-03 -4.9815448e-03\n",
            " -1.2645014e-03  7.4485540e-03 -2.0052339e-03  1.9681163e-03\n",
            "  3.5501525e-03 -3.1083501e-03  6.6014356e-05 -1.6745169e-03\n",
            " -4.3036276e-04 -1.4305249e-03 -1.1192957e-03 -1.2423301e-03\n",
            " -1.6009051e-03 -3.9800727e-03 -8.1567082e-04 -4.0770480e-03\n",
            "  2.2465423e-05  1.5362388e-03 -2.1774821e-04  1.9189571e-03\n",
            " -1.2404469e-03  2.6046536e-03  1.7554802e-03  4.3156156e-03\n",
            "  4.4477230e-05 -1.6377487e-03 -5.4761600e-03  2.3041535e-03\n",
            " -1.0817337e-03 -3.2985792e-04 -3.4538247e-03  2.0026586e-03\n",
            "  9.2095369e-04  4.0474272e-04 -1.0759853e-03  5.3865230e-03\n",
            " -5.2514439e-04 -4.2396132e-06  4.8871781e-04 -3.6668645e-03\n",
            "  3.7289164e-03  3.8604781e-03 -7.7950573e-03 -2.2898263e-03\n",
            " -3.8184682e-03  6.3271909e-03 -4.2641275e-03 -6.9144234e-04\n",
            " -2.8268935e-03  1.8944460e-04  3.3309371e-03  1.3953017e-03\n",
            " -4.2734900e-04 -4.1541073e-04 -5.0793737e-03 -2.3072521e-04\n",
            "  3.1676893e-03], shape=(65,), dtype=float32)\n"
          ]
        }
      ]
    },
    {
      "cell_type": "code",
      "source": [
        "# if we want to determine the predicted character, we need to sample the output distribution (pick a bvalue based on probability)\n",
        "sampled_indices = tf.random.categorical(pred, num_samples=1)\n",
        "\n",
        "# now, we can reshape that array and convert all the integers to numbers to see the actual characters\n",
        "sampled_indices = np.reshape(sampled_indices, (1, -1))[0]\n",
        "predicted_chars = int_to_text(sampled_indices)\n",
        "\n",
        "predicted_chars # and this is what the model predicted for training sequence 1"
      ],
      "metadata": {
        "colab": {
          "base_uri": "https://localhost:8080/",
          "height": 36
        },
        "id": "aynidOe07xNN",
        "outputId": "b3753084-ebef-4fcd-8404-26416ece3ab5"
      },
      "execution_count": 18,
      "outputs": [
        {
          "output_type": "execute_result",
          "data": {
            "text/plain": [
              "\"GClQvqp3ErV!FowXU?\\nkzoYMbNXfXq!dC,iOSniN'AU;mJDY?-fHMztder\\nm;zqvJAV&aTyJ?wuE& o,M3d:manveL!Sr3XrDD,!\""
            ],
            "application/vnd.google.colaboratory.intrinsic+json": {
              "type": "string"
            }
          },
          "metadata": {},
          "execution_count": 18
        }
      ]
    },
    {
      "cell_type": "markdown",
      "source": [
        "So now, we need to create a loss function that can compare that output to the expected output and give us some numeric value representing how close the two were."
      ],
      "metadata": {
        "id": "UvuJyu1T9K6y"
      }
    },
    {
      "cell_type": "code",
      "source": [
        "def loss(labels, logits):\n",
        "  return tf.keras.losses.sparse_categorical_crossentropy(labels, logits, from_logits=True)"
      ],
      "metadata": {
        "id": "c8dHaewB9d54"
      },
      "execution_count": 19,
      "outputs": []
    },
    {
      "cell_type": "markdown",
      "source": [
        "### Compiling the Model\n",
        "At this point, we can think of our problem as a classification problem where the model predicts the probability of each unique letter coming next."
      ],
      "metadata": {
        "id": "P8mqzrCVaRmQ"
      }
    },
    {
      "cell_type": "code",
      "source": [
        "model.compile(optimizer='adam', loss=loss)"
      ],
      "metadata": {
        "id": "efqb-4OPbCLL"
      },
      "execution_count": 20,
      "outputs": []
    },
    {
      "cell_type": "markdown",
      "source": [
        "### Creating Checkpoints\n",
        "Now, we are going to setup and configure our model to save checkpoints as it trains. This will allow us to load our model from a checkpoint and continue training it."
      ],
      "metadata": {
        "id": "1aMq1IR8bHuA"
      }
    },
    {
      "cell_type": "code",
      "source": [
        "# Directory where the checkpoints will be saved\n",
        "checkpoint_dir = './training_checkpoints'\n",
        "# Name of the checkpoint files\n",
        "checkpoint_prefix = os.path.join(checkpoint_dir, 'ckpt_{epoch}')\n",
        "\n",
        "checkpoint_callback = tf.keras.callbacks.ModelCheckpoint(\n",
        "    filepath = checkpoint_prefix,\n",
        "    save_weights_only=True\n",
        ")"
      ],
      "metadata": {
        "id": "a6URuMIIbdxo"
      },
      "execution_count": 21,
      "outputs": []
    },
    {
      "cell_type": "markdown",
      "source": [
        "### Training\n",
        "Finally, we will start training the model.\n",
        "If this is taking a while, go to change Runtime type and choose 'GPU' under the hardware accelerator"
      ],
      "metadata": {
        "id": "bKmbePGPcARp"
      }
    },
    {
      "cell_type": "code",
      "source": [
        "history = model.fit(data, epochs=2, callbacks=[checkpoint_callback])\n",
        "# For this kind of model, the more the epoch, the more the accuracy because what we want to do is to learn how the language works and to replicate that but we use 2 because of time"
      ],
      "metadata": {
        "id": "2aZwI6YRcfTG",
        "colab": {
          "base_uri": "https://localhost:8080/"
        },
        "outputId": "01a0f547-c132-4bd3-8b08-18cb50210beb"
      },
      "execution_count": 22,
      "outputs": [
        {
          "output_type": "stream",
          "name": "stdout",
          "text": [
            "Epoch 1/2\n",
            "172/172 [==============================] - 17s 71ms/step - loss: 2.5813\n",
            "Epoch 2/2\n",
            "172/172 [==============================] - 14s 69ms/step - loss: 1.8877\n"
          ]
        }
      ]
    },
    {
      "cell_type": "markdown",
      "source": [
        "Loading the Model\n",
        "We'll rebuild the model from a checkpoint using a batch_size of 1 so that we can feed one peice of text to the model and have it make a prediction."
      ],
      "metadata": {
        "id": "JQc8SXQ0cs8i"
      }
    },
    {
      "cell_type": "code",
      "source": [
        "model = build_model(VOCAB_SIZE, EMBEDDING_DIM, RNN_UNITS, batch_size=1)"
      ],
      "metadata": {
        "id": "3zqPFI5Dc2Up"
      },
      "execution_count": 23,
      "outputs": []
    },
    {
      "cell_type": "markdown",
      "source": [
        "Once the model is finished training, we can find the latest checkpoint that stores the models weights using the following line"
      ],
      "metadata": {
        "id": "9NdIeE-_c89J"
      }
    },
    {
      "cell_type": "code",
      "source": [
        "model.load_weights(tf.train.latest_checkpoint(checkpoint_dir))\n",
        "model.build(tf.TensorShape([1, None]))"
      ],
      "metadata": {
        "id": "v9JN8VoYdUqL"
      },
      "execution_count": 29,
      "outputs": []
    },
    {
      "cell_type": "markdown",
      "source": [
        "We can load any checkpoint we want by specifying teh exact file to load."
      ],
      "metadata": {
        "id": "vJtKLR3sdg31"
      }
    },
    {
      "cell_type": "code",
      "source": [
        "checkpoint_num = 1\n",
        "model.load_weights(tf.train.load_checkpoint(\"./training_checkpoints/ckpt_\" + str(checkpoint_num)))\n",
        "model.build(tf.TensorShape([1, None]))"
      ],
      "metadata": {
        "id": "zl1XmgipdlmK",
        "colab": {
          "base_uri": "https://localhost:8080/",
          "height": 355
        },
        "outputId": "6df76527-548a-46c1-c134-4fad2217a1cc"
      },
      "execution_count": 31,
      "outputs": [
        {
          "output_type": "error",
          "ename": "AttributeError",
          "evalue": "'tensorflow.python.util._pywrap_checkpoint_reader.C' object has no attribute 'endswith'",
          "traceback": [
            "\u001b[0;31m---------------------------------------------------------------------------\u001b[0m",
            "\u001b[0;31mAttributeError\u001b[0m                            Traceback (most recent call last)",
            "\u001b[0;32m<ipython-input-31-7a1f4b0b7248>\u001b[0m in \u001b[0;36m<cell line: 2>\u001b[0;34m()\u001b[0m\n\u001b[1;32m      1\u001b[0m \u001b[0mcheckpoint_num\u001b[0m \u001b[0;34m=\u001b[0m \u001b[0;36m1\u001b[0m\u001b[0;34m\u001b[0m\u001b[0;34m\u001b[0m\u001b[0m\n\u001b[0;32m----> 2\u001b[0;31m \u001b[0mmodel\u001b[0m\u001b[0;34m.\u001b[0m\u001b[0mload_weights\u001b[0m\u001b[0;34m(\u001b[0m\u001b[0mtf\u001b[0m\u001b[0;34m.\u001b[0m\u001b[0mtrain\u001b[0m\u001b[0;34m.\u001b[0m\u001b[0mload_checkpoint\u001b[0m\u001b[0;34m(\u001b[0m\u001b[0;34m\"./training_checkpoints/ckpt_\"\u001b[0m \u001b[0;34m+\u001b[0m \u001b[0mstr\u001b[0m\u001b[0;34m(\u001b[0m\u001b[0mcheckpoint_num\u001b[0m\u001b[0;34m)\u001b[0m\u001b[0;34m)\u001b[0m\u001b[0;34m)\u001b[0m\u001b[0;34m\u001b[0m\u001b[0;34m\u001b[0m\u001b[0m\n\u001b[0m\u001b[1;32m      3\u001b[0m \u001b[0mmodel\u001b[0m\u001b[0;34m.\u001b[0m\u001b[0mbuild\u001b[0m\u001b[0;34m(\u001b[0m\u001b[0mtf\u001b[0m\u001b[0;34m.\u001b[0m\u001b[0mTensorShape\u001b[0m\u001b[0;34m(\u001b[0m\u001b[0;34m[\u001b[0m\u001b[0;36m1\u001b[0m\u001b[0;34m,\u001b[0m \u001b[0;32mNone\u001b[0m\u001b[0;34m]\u001b[0m\u001b[0;34m)\u001b[0m\u001b[0;34m)\u001b[0m\u001b[0;34m\u001b[0m\u001b[0;34m\u001b[0m\u001b[0m\n",
            "\u001b[0;32m/usr/local/lib/python3.10/dist-packages/keras/src/utils/traceback_utils.py\u001b[0m in \u001b[0;36merror_handler\u001b[0;34m(*args, **kwargs)\u001b[0m\n\u001b[1;32m     68\u001b[0m             \u001b[0;31m# To get the full stack trace, call:\u001b[0m\u001b[0;34m\u001b[0m\u001b[0;34m\u001b[0m\u001b[0m\n\u001b[1;32m     69\u001b[0m             \u001b[0;31m# `tf.debugging.disable_traceback_filtering()`\u001b[0m\u001b[0;34m\u001b[0m\u001b[0;34m\u001b[0m\u001b[0m\n\u001b[0;32m---> 70\u001b[0;31m             \u001b[0;32mraise\u001b[0m \u001b[0me\u001b[0m\u001b[0;34m.\u001b[0m\u001b[0mwith_traceback\u001b[0m\u001b[0;34m(\u001b[0m\u001b[0mfiltered_tb\u001b[0m\u001b[0;34m)\u001b[0m \u001b[0;32mfrom\u001b[0m \u001b[0;32mNone\u001b[0m\u001b[0;34m\u001b[0m\u001b[0;34m\u001b[0m\u001b[0m\n\u001b[0m\u001b[1;32m     71\u001b[0m         \u001b[0;32mfinally\u001b[0m\u001b[0;34m:\u001b[0m\u001b[0;34m\u001b[0m\u001b[0;34m\u001b[0m\u001b[0m\n\u001b[1;32m     72\u001b[0m             \u001b[0;32mdel\u001b[0m \u001b[0mfiltered_tb\u001b[0m\u001b[0;34m\u001b[0m\u001b[0;34m\u001b[0m\u001b[0m\n",
            "\u001b[0;32m/usr/local/lib/python3.10/dist-packages/keras/src/saving/legacy/saving_utils.py\u001b[0m in \u001b[0;36mis_hdf5_filepath\u001b[0;34m(filepath)\u001b[0m\n\u001b[1;32m    366\u001b[0m \u001b[0;32mdef\u001b[0m \u001b[0mis_hdf5_filepath\u001b[0m\u001b[0;34m(\u001b[0m\u001b[0mfilepath\u001b[0m\u001b[0;34m)\u001b[0m\u001b[0;34m:\u001b[0m\u001b[0;34m\u001b[0m\u001b[0;34m\u001b[0m\u001b[0m\n\u001b[1;32m    367\u001b[0m     return (\n\u001b[0;32m--> 368\u001b[0;31m         \u001b[0mfilepath\u001b[0m\u001b[0;34m.\u001b[0m\u001b[0mendswith\u001b[0m\u001b[0;34m(\u001b[0m\u001b[0;34m\".h5\"\u001b[0m\u001b[0;34m)\u001b[0m\u001b[0;34m\u001b[0m\u001b[0;34m\u001b[0m\u001b[0m\n\u001b[0m\u001b[1;32m    369\u001b[0m         \u001b[0;32mor\u001b[0m \u001b[0mfilepath\u001b[0m\u001b[0;34m.\u001b[0m\u001b[0mendswith\u001b[0m\u001b[0;34m(\u001b[0m\u001b[0;34m\".keras\"\u001b[0m\u001b[0;34m)\u001b[0m\u001b[0;34m\u001b[0m\u001b[0;34m\u001b[0m\u001b[0m\n\u001b[1;32m    370\u001b[0m         \u001b[0;32mor\u001b[0m \u001b[0mfilepath\u001b[0m\u001b[0;34m.\u001b[0m\u001b[0mendswith\u001b[0m\u001b[0;34m(\u001b[0m\u001b[0;34m\".hdf5\"\u001b[0m\u001b[0;34m)\u001b[0m\u001b[0;34m\u001b[0m\u001b[0;34m\u001b[0m\u001b[0m\n",
            "\u001b[0;31mAttributeError\u001b[0m: 'tensorflow.python.util._pywrap_checkpoint_reader.C' object has no attribute 'endswith'"
          ]
        }
      ]
    },
    {
      "cell_type": "markdown",
      "source": [
        "### Generating Text\n",
        "Now, we can use the lovely function provided by tensorflow to generate some text using any starting string we'd like"
      ],
      "metadata": {
        "id": "oAIouhXYiKH3"
      }
    },
    {
      "cell_type": "code",
      "source": [
        "def generate_text(model, start_string):\n",
        "  # Evaluate step (generating text using the learned model)\n",
        "\n",
        "  # Number of characters to gnerate\n",
        "  num_generate = 800\n",
        "\n",
        "  # Converting our start string to numbers (vectorizing)\n",
        "  input_eval = [char2idx[s] for s in start_string]\n",
        "  # Turning our input_eval into a double list , i.e [[]]\n",
        "  input_eval = tf.expand_dims(input_eval, 0)\n",
        "\n",
        "  # Empty string to store our results\n",
        "  text_generated = []\n",
        "\n",
        "  # Low temperature results in more predictable text.\n",
        "  # Higher temperature results in more surprising text.\n",
        "  # Experiment to find the best setting.\n",
        "  temperature = 1.0\n",
        "\n",
        "  # Here batch size = 1\n",
        "  model.reset_states()\n",
        "  for i in range(num_generate):\n",
        "    predictions = model(input_eval)\n",
        "    # remove the batch dimension\n",
        "\n",
        "    # This makes our predictions a simple list and removes the extra dimension\n",
        "    predictions = tf.squeeze(predictions, 0)\n",
        "\n",
        "    # Using a categorical distrivution to predict the character returned by the model\n",
        "    predictions = predictions / temperature\n",
        "    predicted_id = tf.random.categorical(predictions, num_samples=1)[-1,0].numpy()\n",
        "\n",
        "    # We pass the predicted character as the next input to the model\n",
        "    # along with the previous hidden state\n",
        "    input_eval = tf.expand_dims([predicted_id], 0)\n",
        "\n",
        "    text_generated.append(idx2char[predicted_id])\n",
        "\n",
        "  return (start_string + ''.join(text_generated))"
      ],
      "metadata": {
        "id": "tx-gnZlDiSUR"
      },
      "execution_count": 35,
      "outputs": []
    },
    {
      "cell_type": "code",
      "source": [
        "inp = input(\"Type a starting string: \")\n",
        "print(generate_text(model, inp))"
      ],
      "metadata": {
        "colab": {
          "base_uri": "https://localhost:8080/"
        },
        "id": "V2qUpTqKj6Wd",
        "outputId": "9c9dd693-1770-4d71-a649-c11f68034ee4"
      },
      "execution_count": 36,
      "outputs": [
        {
          "output_type": "stream",
          "name": "stdout",
          "text": [
            "Type a starting string: Moses\n",
            "Moses the hand;\n",
            "Mewarce you kned jower so save the ginse to breathter,\n",
            "Peivit as you.\n",
            "The kned quemere Kath,\n",
            "Mesboves fat a marmeed, as go-thy fair with but spracesing\n",
            "Therefied's tootherfs, and in of it your visted,\n",
            "The kinstul mo lobder; and low'd my; we\n",
            "leave onen,\n",
            "His dint him forrather of gove unt and fromnears.\n",
            "Sputice.\n",
            "\n",
            "LOD ANGES:\n",
            "Yot son, you, both chrewennch on sour ag soched\n",
            "O an show know gony I sugenfuls\n",
            "Hadhing aplands ow brading.\n",
            "\n",
            "QUEEN MARGURE:\n",
            "I wire Betararge, for you peach you are me: me tore!\n",
            "\n",
            "CUMIRGUS:\n",
            "Which I thy unfin them our fatcerpan than,\n",
            "that's givion. O?\n",
            "How and comes of my edervantes.\n",
            "But digrsty thant: no most hel haspented to be mads\n",
            "Ke twill he ofterty whan's, shan's exsent? which cosedn to bean disteror,\n",
            "What, you.\n",
            "Mestrow you con ut friending.\n",
            "Speak I ame is wh\n"
          ]
        }
      ]
    }
  ]
}