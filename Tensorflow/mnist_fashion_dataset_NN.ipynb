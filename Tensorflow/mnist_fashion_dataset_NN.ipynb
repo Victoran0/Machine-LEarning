{
  "nbformat": 4,
  "nbformat_minor": 0,
  "metadata": {
    "colab": {
      "provenance": []
    },
    "kernelspec": {
      "name": "python3",
      "display_name": "Python 3"
    },
    "language_info": {
      "name": "python"
    }
  },
  "cells": [
    {
      "cell_type": "markdown",
      "source": [
        "### Imports"
      ],
      "metadata": {
        "id": "63Kizsi1XPrl"
      }
    },
    {
      "cell_type": "code",
      "source": [
        "import tensorflow as tf\n",
        "from tensorflow import keras\n",
        "\n",
        "#Helper libiraries\n",
        "import numpy as np\n",
        "import matplotlib.pyplot as plt"
      ],
      "metadata": {
        "id": "IgefWN3nXVLU"
      },
      "execution_count": 3,
      "outputs": []
    },
    {
      "cell_type": "markdown",
      "source": [
        "### Dataset\n",
        "##### We would be using the MNIST Fashion Dataset. This is a dataset that is included in keras.\n",
        "##### This dataset includes 60,000 images for training and 10,000 images for validating/testing"
      ],
      "metadata": {
        "id": "EjpyLgayXvGG"
      }
    },
    {
      "cell_type": "code",
      "source": [
        "fashion_mnist = keras.datasets.fashion_mnist\n",
        "\n",
        "(train_images, train_labels), (test_images, test_labels) = fashion_mnist.load_data()"
      ],
      "metadata": {
        "colab": {
          "base_uri": "https://localhost:8080/"
        },
        "id": "Z9yNh7RiX-qk",
        "outputId": "a9d39835-3634-493d-c5eb-beb981282bcb"
      },
      "execution_count": 4,
      "outputs": [
        {
          "output_type": "stream",
          "name": "stdout",
          "text": [
            "Downloading data from https://storage.googleapis.com/tensorflow/tf-keras-datasets/train-labels-idx1-ubyte.gz\n",
            "29515/29515 [==============================] - 0s 1us/step\n",
            "Downloading data from https://storage.googleapis.com/tensorflow/tf-keras-datasets/train-images-idx3-ubyte.gz\n",
            "26421880/26421880 [==============================] - 2s 0us/step\n",
            "Downloading data from https://storage.googleapis.com/tensorflow/tf-keras-datasets/t10k-labels-idx1-ubyte.gz\n",
            "5148/5148 [==============================] - 0s 0us/step\n",
            "Downloading data from https://storage.googleapis.com/tensorflow/tf-keras-datasets/t10k-images-idx3-ubyte.gz\n",
            "4422102/4422102 [==============================] - 1s 0us/step\n"
          ]
        }
      ]
    },
    {
      "cell_type": "markdown",
      "source": [
        "### let's have some exploratory data analysis to see what we are working with"
      ],
      "metadata": {
        "id": "cCKUQZhyYfns"
      }
    },
    {
      "cell_type": "code",
      "source": [
        "print(train_images.shape)\n",
        "print(type(train_images))"
      ],
      "metadata": {
        "colab": {
          "base_uri": "https://localhost:8080/"
        },
        "id": "6pSvLp3yakSP",
        "outputId": "e5455207-a505-4dbe-d364-f509a296d333"
      },
      "execution_count": 5,
      "outputs": [
        {
          "output_type": "stream",
          "name": "stdout",
          "text": [
            "(60000, 28, 28)\n",
            "<class 'numpy.ndarray'>\n"
          ]
        }
      ]
    },
    {
      "cell_type": "markdown",
      "source": [
        "#### So we've got 60,000 images that are made up of 28x28 pixels (784 in total)."
      ],
      "metadata": {
        "id": "ep0OGA78a3nV"
      }
    },
    {
      "cell_type": "code",
      "source": [
        "train_images[0, 23, 23] # let's have a look at one pixel"
      ],
      "metadata": {
        "colab": {
          "base_uri": "https://localhost:8080/"
        },
        "id": "gGfXmZX3a_-j",
        "outputId": "14e5c50b-0007-455b-fd05-9482501d4118"
      },
      "execution_count": 6,
      "outputs": [
        {
          "output_type": "execute_result",
          "data": {
            "text/plain": [
              "194"
            ]
          },
          "metadata": {},
          "execution_count": 6
        }
      ]
    },
    {
      "cell_type": "markdown",
      "source": [
        "#### Our pixels vvalues are between 0 and 255, 0 being black and 255 being white. This means we have a grayscale image as there are no color channels."
      ],
      "metadata": {
        "id": "7bxI68MubIFe"
      }
    },
    {
      "cell_type": "code",
      "source": [
        "train_labels[:10] # let's have a look at the first 10 training labels"
      ],
      "metadata": {
        "colab": {
          "base_uri": "https://localhost:8080/"
        },
        "id": "2vTNLxSwbSd2",
        "outputId": "7ddb50f6-f4ac-4773-d5f8-82ceb86d7401"
      },
      "execution_count": 7,
      "outputs": [
        {
          "output_type": "execute_result",
          "data": {
            "text/plain": [
              "array([9, 0, 0, 3, 0, 2, 7, 2, 5, 5], dtype=uint8)"
            ]
          },
          "metadata": {},
          "execution_count": 7
        }
      ]
    },
    {
      "cell_type": "markdown",
      "source": [
        "### Our labels are integers ranging from 0-9. Ech integer represents a specific article of clothing. We'll create an array of label to indicate which is which"
      ],
      "metadata": {
        "id": "xOPyPSZybZma"
      }
    },
    {
      "cell_type": "code",
      "source": [
        "class_names = ['T-shirt/top', 'Trouser', 'Pullover', 'Dress', 'Coat', 'Sandal', 'Shirt', 'Sneaker', 'Bag', 'Ankle boot']"
      ],
      "metadata": {
        "id": "namuCQ-1blzU"
      },
      "execution_count": 8,
      "outputs": []
    },
    {
      "cell_type": "markdown",
      "source": [
        "#### Finally let's look at what some of these images look like"
      ],
      "metadata": {
        "id": "pa4aXUfbcOHf"
      }
    },
    {
      "cell_type": "code",
      "source": [
        "plt.figure()\n",
        "plt.imshow(train_images[3])\n",
        "plt.colorbar()\n",
        "plt.grid(False)\n",
        "plt.show()"
      ],
      "metadata": {
        "colab": {
          "base_uri": "https://localhost:8080/",
          "height": 430
        },
        "id": "EnijcQt6cWnu",
        "outputId": "491d1f32-802f-4772-a515-1eaac802fcbc"
      },
      "execution_count": 9,
      "outputs": [
        {
          "output_type": "display_data",
          "data": {
            "text/plain": [
              "<Figure size 640x480 with 2 Axes>"
            ],
            "image/png": "[encoded data removed]"
          },
          "metadata": {}
        }
      ]
    },
    {
      "cell_type": "markdown",
      "source": [
        "### Data Preprocessing\n",
        "##### The last step before creating our model is to preprocess our data. In this case, we would simply scale all of our greyscale pixel values (0-255) to be btw 0 and 1. We can do this by dividing each value in the training and testing sets by 255.0. We do this because smaller vals will make it easier for our model to process our vals."
      ],
      "metadata": {
        "id": "zekdSRajdrem"
      }
    },
    {
      "cell_type": "code",
      "source": [
        "train_images = train_images / 255.0\n",
        "test_images = test_images / 255.0"
      ],
      "metadata": {
        "id": "6utQMhIkdtuY"
      },
      "execution_count": 10,
      "outputs": []
    },
    {
      "cell_type": "markdown",
      "source": [
        "### Building the Model\n",
        "#### We are going to use a keras sequential model with 3 different layers, it is the basic form of neural network. This model represents a feed-forward neural network (one that passes values from left to right). We'll break down each layer and its architecture below."
      ],
      "metadata": {
        "id": "Jt-Dksgted9T"
      }
    },
    {
      "cell_type": "code",
      "source": [
        "model = keras.Sequential([\n",
        "    keras.layers.Flatten(input_shape=(28, 28)), # input layer 1\n",
        "    keras.layers.Dense(128, activation='relu'), # hidden layer (2), relu is rectify linear unit\n",
        "    # dense means all of the neurons in the previous layers are connected to every neuron in this layer\n",
        "    keras.layers.Dense(10, activation='softmax') # output layer (3)\n",
        "    ])\n",
        "    # we have 10 output neurons in our output layers because we have 10 class names\n"
      ],
      "metadata": {
        "id": "CnFOwXszewmZ"
      },
      "execution_count": 11,
      "outputs": []
    },
    {
      "cell_type": "markdown",
      "source": [
        "### Compiling the Model\n",
        "#### Hyper Parameter Tuning\n",
        "##### The last step in building the model is to define the loss function, opt9mizer and metrics we would like to track."
      ],
      "metadata": {
        "id": "lSbIBoGfkdgl"
      }
    },
    {
      "cell_type": "code",
      "source": [
        "model.compile(optimizer='adam',\n",
        "              loss='sparse_categorical_crossentropy',\n",
        "              metrics=['accuracy'])\n",
        "# The optimized adam is the algorithm that performs the gradient descent\n",
        "# sparse categorical crossentropy is our loss function\n",
        "# our metrics, the output we want to see should be based on accuracy"
      ],
      "metadata": {
        "id": "-TTq_wJskr2x"
      },
      "execution_count": 12,
      "outputs": []
    },
    {
      "cell_type": "markdown",
      "source": [
        "### Training the Model"
      ],
      "metadata": {
        "id": "wrMvqaQIk85r"
      }
    },
    {
      "cell_type": "code",
      "source": [
        "model.fit(train_images, train_labels, epochs=10) # we pass the data, labels and epochs"
      ],
      "metadata": {
        "colab": {
          "base_uri": "https://localhost:8080/"
        },
        "id": "NSp4vsFZrCMB",
        "outputId": "c50c3b86-9512-486c-e45c-b894d8bc08b3"
      },
      "execution_count": 13,
      "outputs": [
        {
          "output_type": "stream",
          "name": "stdout",
          "text": [
            "Epoch 1/10\n",
            "1875/1875 [==============================] - 7s 3ms/step - loss: 0.4994 - accuracy: 0.8249\n",
            "Epoch 2/10\n",
            "1875/1875 [==============================] - 8s 4ms/step - loss: 0.3773 - accuracy: 0.8640\n",
            "Epoch 3/10\n",
            "1875/1875 [==============================] - 6s 3ms/step - loss: 0.3373 - accuracy: 0.8765\n",
            "Epoch 4/10\n",
            "1875/1875 [==============================] - 8s 4ms/step - loss: 0.3142 - accuracy: 0.8841\n",
            "Epoch 5/10\n",
            "1875/1875 [==============================] - 6s 3ms/step - loss: 0.2975 - accuracy: 0.8902\n",
            "Epoch 6/10\n",
            "1875/1875 [==============================] - 7s 4ms/step - loss: 0.2817 - accuracy: 0.8954\n",
            "Epoch 7/10\n",
            "1875/1875 [==============================] - 6s 3ms/step - loss: 0.2686 - accuracy: 0.9005\n",
            "Epoch 8/10\n",
            "1875/1875 [==============================] - 8s 4ms/step - loss: 0.2575 - accuracy: 0.9037\n",
            "Epoch 9/10\n",
            "1875/1875 [==============================] - 6s 3ms/step - loss: 0.2494 - accuracy: 0.9071\n",
            "Epoch 10/10\n",
            "1875/1875 [==============================] - 7s 4ms/step - loss: 0.2377 - accuracy: 0.9102\n"
          ]
        },
        {
          "output_type": "execute_result",
          "data": {
            "text/plain": [
              "<keras.src.callbacks.History at 0x794f668540a0>"
            ]
          },
          "metadata": {},
          "execution_count": 13
        }
      ]
    },
    {
      "cell_type": "markdown",
      "source": [
        "### Evaluating the Model\n",
        "##### The verbose argument is defined from the keras documentation as: 'verbose: 0 or 1. Verbosity mode 0 = silent, 1 = progress bar' of how much information is printed out to the console"
      ],
      "metadata": {
        "id": "cqmp3FT5rOBL"
      }
    },
    {
      "cell_type": "code",
      "source": [
        "test_loss, test_acc = model.evaluate(test_images, test_labels, verbose=1)\n",
        "\n",
        "print('Test accuracy:', test_acc)"
      ],
      "metadata": {
        "colab": {
          "base_uri": "https://localhost:8080/"
        },
        "id": "it8gMVdsrhAV",
        "outputId": "8d6e8588-6f5e-44b4-c13a-ab3ec6e5d335"
      },
      "execution_count": 14,
      "outputs": [
        {
          "output_type": "stream",
          "name": "stdout",
          "text": [
            "313/313 [==============================] - 1s 2ms/step - loss: 0.3362 - accuracy: 0.8857\n",
            "Test accuracy: 0.885699987411499\n"
          ]
        }
      ]
    },
    {
      "cell_type": "markdown",
      "source": [
        "##### We can notice that our test accuracy is lower than our train accuracy, we can try and change our epochs values to both lower and higher values and see how it can influence it."
      ],
      "metadata": {
        "id": "04qBehs8u7mp"
      }
    },
    {
      "cell_type": "code",
      "source": [
        "model.fit(train_images, train_labels, epochs=1)"
      ],
      "metadata": {
        "colab": {
          "base_uri": "https://localhost:8080/"
        },
        "id": "KKTwELltvJMA",
        "outputId": "5a391084-af5f-4c09-eabb-27449ff119f1"
      },
      "execution_count": 15,
      "outputs": [
        {
          "output_type": "stream",
          "name": "stdout",
          "text": [
            "1875/1875 [==============================] - 7s 4ms/step - loss: 0.2323 - accuracy: 0.9133\n"
          ]
        },
        {
          "output_type": "execute_result",
          "data": {
            "text/plain": [
              "<keras.src.callbacks.History at 0x794f668bf8e0>"
            ]
          },
          "metadata": {},
          "execution_count": 15
        }
      ]
    },
    {
      "cell_type": "code",
      "source": [
        "test_loss, test_acc = model.evaluate(test_images, test_labels, verbose=1)\n",
        "\n",
        "print('Test accuracy:', test_acc)"
      ],
      "metadata": {
        "colab": {
          "base_uri": "https://localhost:8080/"
        },
        "id": "iaNEhphfvQ6R",
        "outputId": "967853d3-9cdf-4e01-a925-54149f77c589"
      },
      "execution_count": 16,
      "outputs": [
        {
          "output_type": "stream",
          "name": "stdout",
          "text": [
            "313/313 [==============================] - 1s 2ms/step - loss: 0.3180 - accuracy: 0.8862\n",
            "Test accuracy: 0.8862000107765198\n"
          ]
        }
      ]
    },
    {
      "cell_type": "markdown",
      "source": [
        "##### And we can see that less epochs gave us more accuracy on our test data"
      ],
      "metadata": {
        "id": "o0QKvCj1wTR3"
      }
    },
    {
      "cell_type": "markdown",
      "source": [
        "### Make Predictions\n",
        "##### making predictions using the .predict method of our model with our test dataset"
      ],
      "metadata": {
        "id": "w6uIyufAmszF"
      }
    },
    {
      "cell_type": "code",
      "source": [
        "predictions = model.predict(test_images)"
      ],
      "metadata": {
        "colab": {
          "base_uri": "https://localhost:8080/"
        },
        "id": "UwmmDMfZm3Vb",
        "outputId": "61dd6bba-0985-423f-a664-be4bd6de6e01"
      },
      "execution_count": 17,
      "outputs": [
        {
          "output_type": "stream",
          "name": "stdout",
          "text": [
            "313/313 [==============================] - 1s 2ms/step\n"
          ]
        }
      ]
    },
    {
      "cell_type": "code",
      "source": [
        "test_images.shape"
      ],
      "metadata": {
        "colab": {
          "base_uri": "https://localhost:8080/"
        },
        "id": "pZbqy2e0m_5v",
        "outputId": "8e9976b6-bfef-43fa-c874-c756c21536fe"
      },
      "execution_count": 18,
      "outputs": [
        {
          "output_type": "execute_result",
          "data": {
            "text/plain": [
              "(10000, 28, 28)"
            ]
          },
          "metadata": {},
          "execution_count": 18
        }
      ]
    },
    {
      "cell_type": "markdown",
      "source": [
        "##### From the shape, we can see it is an array of 10000 images. So, If we just wanted to predict on one image, we can simply say [test_images[0]] because it is used to seeing data in array forms"
      ],
      "metadata": {
        "id": "n04TGYYJnFgD"
      }
    },
    {
      "cell_type": "code",
      "source": [
        "print(predictions)"
      ],
      "metadata": {
        "colab": {
          "base_uri": "https://localhost:8080/"
        },
        "id": "6UrCF8lOnE8l",
        "outputId": "27fd893a-248d-4f6b-cdb8-d8f2e7f2ebfc"
      },
      "execution_count": 19,
      "outputs": [
        {
          "output_type": "stream",
          "name": "stdout",
          "text": [
            "[[1.3791248e-09 3.4026415e-09 1.0747767e-09 ... 1.9707175e-03\n",
            "  4.2395392e-08 9.9695164e-01]\n",
            " [6.2131199e-05 4.3070369e-12 9.9889219e-01 ... 1.9111791e-18\n",
            "  2.1059752e-09 1.1704144e-15]\n",
            " [8.7646281e-09 9.9999994e-01 1.2825977e-12 ... 2.8782662e-26\n",
            "  1.4715232e-13 1.1377194e-20]\n",
            " ...\n",
            " [2.0853711e-06 5.2936151e-14 1.2177647e-07 ... 5.7823229e-11\n",
            "  9.9998933e-01 2.1484581e-11]\n",
            " [2.3969142e-09 9.9999923e-01 1.8342119e-10 ... 1.6383354e-14\n",
            "  2.7217367e-10 9.2787188e-11]\n",
            " [5.8218961e-06 1.9479346e-10 1.8750550e-06 ... 5.4654403e-05\n",
            "  1.2334432e-05 7.5928182e-07]]\n"
          ]
        }
      ]
    },
    {
      "cell_type": "code",
      "source": [
        "print(predictions[0])"
      ],
      "metadata": {
        "colab": {
          "base_uri": "https://localhost:8080/"
        },
        "id": "lsY1xdENoBDa",
        "outputId": "59f7cbc8-9676-4dd4-9711-d95e99adc423"
      },
      "execution_count": 20,
      "outputs": [
        {
          "output_type": "stream",
          "name": "stdout",
          "text": [
            "[1.3791248e-09 3.4026415e-09 1.0747767e-09 8.9813414e-11 1.5966943e-09\n",
            " 1.0775557e-03 7.9610473e-08 1.9707175e-03 4.2395392e-08 9.9695164e-01]\n"
          ]
        }
      ]
    },
    {
      "cell_type": "markdown",
      "source": [
        "##### If we want to find out what class this is predicting for, we hcan use a cool function calld np.argmax which is going to return to us the index of the max val in our predictions list"
      ],
      "metadata": {
        "id": "sK69cm3boVl0"
      }
    },
    {
      "cell_type": "code",
      "source": [
        "print(class_names[np.argmax(predictions[0])])"
      ],
      "metadata": {
        "colab": {
          "base_uri": "https://localhost:8080/"
        },
        "id": "zqc7BIF0oi46",
        "outputId": "16ca5dbb-b463-43d0-d0b6-98a62b76b245"
      },
      "execution_count": 21,
      "outputs": [
        {
          "output_type": "stream",
          "name": "stdout",
          "text": [
            "Ankle boot\n"
          ]
        }
      ]
    },
    {
      "cell_type": "markdown",
      "source": [
        "So, let's try and check if our prediction was any way close"
      ],
      "metadata": {
        "id": "HPLiJwAIpE8V"
      }
    },
    {
      "cell_type": "code",
      "source": [
        "plt.figure()\n",
        "plt.imshow(test_images[0])\n",
        "plt.colorbar()\n",
        "plt.grid(False)\n",
        "plt.show()"
      ],
      "metadata": {
        "colab": {
          "base_uri": "https://localhost:8080/",
          "height": 435
        },
        "id": "fzccndG7pKu1",
        "outputId": "682e9a34-0c4c-4861-9331-15445a63857f"
      },
      "execution_count": 22,
      "outputs": [
        {
          "output_type": "display_data",
          "data": {
            "text/plain": [
              "<Figure size 640x480 with 2 Axes>"
            ],
            "image/png": "[encoded data removed]"
          },
          "metadata": {}
        }
      ]
    },
    {
      "cell_type": "markdown",
      "source": [
        "### Verifying Predictions\n",
        "##### Some functions which wuld help us verify predictions with some simple visuals"
      ],
      "metadata": {
        "id": "Boi-8xZUpt8o"
      }
    },
    {
      "cell_type": "code",
      "source": [
        "COLOR = 'white'\n",
        "plt.rcParams['text.color'] = COLOR\n",
        "plt.rcParams['axes.labelcolor'] = COLOR\n",
        "\n",
        "def predict(model, image, correct_label):\n",
        "  class_names = ['T-shirt/top', 'Trouser', 'Pullover', 'Dress', 'Coat',\n",
        "                 'Sandal', 'Shirt', 'Sneaker', 'Bag', 'Ankle boot']\n",
        "  prediction = model.predict(np.array([image]))\n",
        "  predicted_class = class_names[np.argmax(prediction)]\n",
        "\n",
        "  show_image(image, class_names[correct_label], predicted_class)\n",
        "\n",
        "def show_image(img, label, guess):\n",
        "  plt.figure()\n",
        "  plt.imshow(img, cmap=plt.cm.binary)\n",
        "  plt.title(\"Expected: \" + label)\n",
        "  plt.xlabel(\"Guess: \" + guess)\n",
        "  plt.colorbar()\n",
        "  plt.grid(False)\n",
        "  plt.show()\n",
        "\n",
        "def get_number():\n",
        "  while True:\n",
        "    num = input(\"pick a number: \")\n",
        "    if num.isdigit():\n",
        "      num = int(num)\n",
        "      if 0 <= num <= 1000:\n",
        "        return int(num)\n",
        "      else:\n",
        "        return (\"Try again...\")\n",
        "\n",
        "num = get_number()\n",
        "image = test_images[num]\n",
        "label = test_labels[num]\n",
        "predict(model, image, label)"
      ],
      "metadata": {
        "colab": {
          "base_uri": "https://localhost:8080/",
          "height": 507
        },
        "id": "4KpbVIibp2VE",
        "outputId": "8c7b6b21-de96-4744-d60b-30fa94a5e1ae"
      },
      "execution_count": 25,
      "outputs": [
        {
          "output_type": "stream",
          "name": "stdout",
          "text": [
            "pick a number: 34\n",
            "1/1 [==============================] - 0s 20ms/step\n"
          ]
        },
        {
          "output_type": "display_data",
          "data": {
            "text/plain": [
              "<Figure size 640x480 with 2 Axes>"
            ],
            "image/png": "[encoded data removed]"
          },
          "metadata": {}
        }
      ]
    }
  ]
}