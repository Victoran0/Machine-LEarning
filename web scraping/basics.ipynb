{
 "cells": [
  {
   "cell_type": "markdown",
   "id": "e4ab5c6e-e255-42e6-a45b-6d2988864c0c",
   "metadata": {},
   "source": [
    "#### Load Necessary Libraries"
   ]
  },
  {
   "cell_type": "code",
   "execution_count": 2,
   "id": "152a0c40-2238-4743-a11a-66b7810ccc26",
   "metadata": {},
   "outputs": [],
   "source": [
    "# We import requests so we load the web pages\n",
    "import requests\n",
    "from bs4 import BeautifulSoup as bs\n",
    "# https://www.crummy.com/software/BeautifulSoup/bs4/doc/ WE can read the beautiful soup doc for more information"
   ]
  },
  {
   "cell_type": "markdown",
   "id": "de452d56-1a73-45e8-b7dc-56fe92c3981c",
   "metadata": {},
   "source": [
    "##### Load the webpage content"
   ]
  },
  {
   "cell_type": "code",
   "execution_count": 3,
   "id": "5bb752dc-2e76-4ff0-8066-1c8a0950e5f0",
   "metadata": {},
   "outputs": [],
   "source": [
    "r = requests.get('https://keithgalli.github.io/web-scraping/example.html')"
   ]
  },
  {
   "cell_type": "markdown",
   "id": "2a252010-f64e-4717-ac23-28339cde7495",
   "metadata": {},
   "source": [
    "##### Convert our web page to a beautiful page object"
   ]
  },
  {
   "cell_type": "code",
   "execution_count": 4,
   "id": "8d902f92-628e-41f2-a1ad-bd37babd770f",
   "metadata": {},
   "outputs": [
    {
     "name": "stdout",
     "output_type": "stream",
     "text": [
      "<html>\n",
      " <head>\n",
      "  <title>\n",
      "   HTML Example\n",
      "  </title>\n",
      " </head>\n",
      " <body>\n",
      "  <div align=\"middle\">\n",
      "   <h1>\n",
      "    HTML Webpage\n",
      "   </h1>\n",
      "   <p>\n",
      "    Link to more interesting example:\n",
      "    <a href=\"https://keithgalli.github.io/web-scraping/webpage.html\">\n",
      "     keithgalli.github.io/web-scraping/webpage.html\n",
      "    </a>\n",
      "   </p>\n",
      "  </div>\n",
      "  <h2>\n",
      "   A Header\n",
      "  </h2>\n",
      "  <p>\n",
      "   <i>\n",
      "    Some italicized text\n",
      "   </i>\n",
      "  </p>\n",
      "  <h2>\n",
      "   Another header\n",
      "  </h2>\n",
      "  <p id=\"paragraph-id\">\n",
      "   <b>\n",
      "    Some bold text\n",
      "   </b>\n",
      "  </p>\n",
      " </body>\n",
      "</html>\n",
      "\n"
     ]
    }
   ],
   "source": [
    "soup = bs(r.content)\n",
    "\n",
    "# We can use prettify to enhance the layout of output\n",
    "print(soup.prettify())"
   ]
  },
  {
   "cell_type": "markdown",
   "id": "ed1d6e84-5979-4c13-a931-174db1e49cc5",
   "metadata": {},
   "source": [
    "#### Start Using Beautiful Soup to Scrape"
   ]
  },
  {
   "cell_type": "markdown",
   "id": "be088493-5212-4264-a8eb-c8584203c362",
   "metadata": {},
   "source": [
    "##### find and find_all"
   ]
  },
  {
   "cell_type": "code",
   "execution_count": 43,
   "id": "ecdfee0e-c6dc-44c8-88a4-2f835eb5417a",
   "metadata": {},
   "outputs": [
    {
     "data": {
      "text/plain": [
       "[<h2>A Header</h2>, <h2>Another header</h2>]"
      ]
     },
     "execution_count": 43,
     "metadata": {},
     "output_type": "execute_result"
    }
   ],
   "source": [
    "# The find command finds the first element that matches irs given string arg\n",
    "first_header = soup.find('h2')\n",
    "# We can also do a simple soup.h2 and ti works like the find function and we can next even more like soup.body.div.p\n",
    "\n",
    "# The find_all returns a list of all elements that match the given arg\n",
    "headers = soup.find_all('h2')\n",
    "headers"
   ]
  },
  {
   "cell_type": "code",
   "execution_count": 10,
   "id": "1350c8b9-22e9-4572-8b43-7384d95371ed",
   "metadata": {},
   "outputs": [
    {
     "data": {
      "text/plain": [
       "[<h1>HTML Webpage</h1>, <h2>A Header</h2>, <h2>Another header</h2>]"
      ]
     },
     "execution_count": 10,
     "metadata": {},
     "output_type": "execute_result"
    }
   ],
   "source": [
    "# We can pass in a list of element to look for\n",
    "# The order in the list does not matter, whatever we put in the list, it finds the first occurence of any of the item that comes first\n",
    "hirst_header = soup.find(['h1', 'h2'])\n",
    "\n",
    "headers = soup.find_all(['h1', 'h2'])\n",
    "headers"
   ]
  },
  {
   "cell_type": "code",
   "execution_count": 15,
   "id": "e58c4e30-147e-428d-86ea-0245594a554e",
   "metadata": {},
   "outputs": [
    {
     "data": {
      "text/plain": [
       "[<p id=\"paragraph-id\"><b>Some bold text</b></p>]"
      ]
     },
     "execution_count": 15,
     "metadata": {},
     "output_type": "execute_result"
    }
   ],
   "source": [
    "# We can find find an element by its attribute\n",
    "paragraph = soup.find_all('p', attrs={'id': 'paragraph-id'})\n",
    "paragraph"
   ]
  },
  {
   "cell_type": "code",
   "execution_count": 21,
   "id": "46d8bbc2-279d-4e8c-9cea-6911555398a8",
   "metadata": {},
   "outputs": [
    {
     "data": {
      "text/plain": [
       "<h1>HTML Webpage</h1>"
      ]
     },
     "execution_count": 21,
     "metadata": {},
     "output_type": "execute_result"
    }
   ],
   "source": [
    "# We can next find and find_all calls\n",
    "body = soup.find('body')\n",
    "div = body.find('div')\n",
    "header = div.find('h1')\n",
    "header"
   ]
  },
  {
   "cell_type": "code",
   "execution_count": 35,
   "id": "82da6907-bcbb-47e8-ae95-9438f42ad21b",
   "metadata": {},
   "outputs": [
    {
     "data": {
      "text/plain": [
       "[<h2>A Header</h2>, <h2>Another header</h2>]"
      ]
     },
     "execution_count": 35,
     "metadata": {},
     "output_type": "execute_result"
    }
   ],
   "source": [
    "# We can search for a specific string in our find/findall calls\n",
    "# With thois, we have to pass in the exact string i.e the exact complete textContent of the tag\n",
    "string_search = soup.find_all('p', string='Some bold text')\n",
    "\n",
    "# With this we can pass in even a single string and it finds it using regex and it is still case sensitive\n",
    "import re\n",
    "paragraph = soup.find_all('p', string=re.compile('Some'))\n",
    "\n",
    "# Findh case insensitive\n",
    "headerz = soup.find_all('h2', string=re.compile('(H|h)eader'))\n",
    "headerz"
   ]
  },
  {
   "cell_type": "markdown",
   "id": "a617f222-c96d-41fd-b20e-1bc547f09992",
   "metadata": {},
   "source": [
    "##### Select (CSS Selector)"
   ]
  },
  {
   "cell_type": "code",
   "execution_count": 48,
   "id": "61c2d612-c6ea-453c-8ebe-52affe9cdaa3",
   "metadata": {},
   "outputs": [
    {
     "data": {
      "text/plain": [
       "[<p>Link to more interesting example: <a href=\"https://keithgalli.github.io/web-scraping/webpage.html\">keithgalli.github.io/web-scraping/webpage.html</a></p>]"
      ]
     },
     "execution_count": 48,
     "metadata": {},
     "output_type": "execute_result"
    }
   ],
   "source": [
    "# The select function returns a list\n",
    "# content = soup.select('p')\n",
    "\n",
    "#  We can next, i.e if we are looking for a p tag in div\n",
    "content = soup.select('div p')\n",
    "content"
   ]
  },
  {
   "cell_type": "code",
   "execution_count": 45,
   "id": "a078a00c-5b75-47d0-b437-6df56faa1f98",
   "metadata": {},
   "outputs": [
    {
     "data": {
      "text/plain": [
       "[<p><i>Some italicized text</i></p>,\n",
       " <p id=\"paragraph-id\"><b>Some bold text</b></p>]"
      ]
     },
     "execution_count": 45,
     "metadata": {},
     "output_type": "execute_result"
    }
   ],
   "source": [
    "# Paragraphs directly after h2, i.e of the same parent, next sibling\n",
    "paragraph_s = soup.select('h2 ~ p')\n",
    "paragraph_s"
   ]
  },
  {
   "cell_type": "code",
   "execution_count": 50,
   "id": "8715b1af-a451-4abd-9aa5-e5ac04a98de6",
   "metadata": {},
   "outputs": [
    {
     "data": {
      "text/plain": [
       "[<b>Some bold text</b>]"
      ]
     },
     "execution_count": 50,
     "metadata": {},
     "output_type": "execute_result"
    }
   ],
   "source": [
    "bold_text = soup.select('p#paragraph-id b')\n",
    "bold_text"
   ]
  },
  {
   "cell_type": "code",
   "execution_count": 63,
   "id": "003637bd-1568-45f7-853d-cfac90b8b6f6",
   "metadata": {},
   "outputs": [
    {
     "name": "stdout",
     "output_type": "stream",
     "text": [
      "<b>Some bold text</b>\n",
      "[<i>Some italicized text</i>]\n",
      "[]\n"
     ]
    }
   ],
   "source": [
    "# We can make nexted calls\n",
    "# body > p, direct descendant of the body tag\n",
    "paragra_ph = soup.select('body > p')\n",
    "print(paragra_ph[1].b)\n",
    "\n",
    "for p in paragra_ph:\n",
    "    print(p.select('i'))"
   ]
  },
  {
   "cell_type": "code",
   "execution_count": 64,
   "id": "b4274677-38fa-4d77-afa7-108208b07663",
   "metadata": {},
   "outputs": [
    {
     "data": {
      "text/plain": [
       "[<div align=\"middle\">\n",
       " <h1>HTML Webpage</h1>\n",
       " <p>Link to more interesting example: <a href=\"https://keithgalli.github.io/web-scraping/webpage.html\">keithgalli.github.io/web-scraping/webpage.html</a></p>\n",
       " </div>]"
      ]
     },
     "execution_count": 64,
     "metadata": {},
     "output_type": "execute_result"
    }
   ],
   "source": [
    "# Grab an element by its attribute\n",
    "soup.select('[align=middle]')"
   ]
  },
  {
   "cell_type": "markdown",
   "id": "cf8c85ec-9a44-49d1-bca5-2e47f91e2a0f",
   "metadata": {},
   "source": [
    "#### Getting Different Properties of the HTML"
   ]
  },
  {
   "cell_type": "code",
   "execution_count": 71,
   "id": "6d9192d8-f8c5-4c73-9ab2-fd40fc90f9d1",
   "metadata": {},
   "outputs": [
    {
     "name": "stdout",
     "output_type": "stream",
     "text": [
      "None\n",
      "\n",
      "HTML Webpage\n",
      "Link to more interesting example: keithgalli.github.io/web-scraping/webpage.html\n",
      "\n"
     ]
    }
   ],
   "source": [
    "# Getting the string within an element\n",
    "# textContent of a particular element without its children involved\n",
    "h = soup.find('h2')\n",
    "h.string\n",
    "d = soup.find('div')\n",
    "print(d.string)\n",
    "\n",
    "# For multipe child element\n",
    "# To get all the textContent inside a container, be it in the element itself or its children element, we use:\n",
    "print(d.get_text())\n"
   ]
  },
  {
   "cell_type": "code",
   "execution_count": 81,
   "id": "91f6c3d9-9d93-4a65-b501-5db5f7a8236b",
   "metadata": {},
   "outputs": [
    {
     "name": "stdout",
     "output_type": "stream",
     "text": [
      "https://keithgalli.github.io/web-scraping/webpage.html\n"
     ]
    },
    {
     "data": {
      "text/plain": [
       "'paragraph-id'"
      ]
     },
     "execution_count": 81,
     "metadata": {},
     "output_type": "execute_result"
    }
   ],
   "source": [
    "# Get a specific property from an element\n",
    "link = soup.find('a')\n",
    "print(link['href'])\n",
    "\n",
    "par = soup.select('#paragraph-id')\n",
    "par[-1]['id']"
   ]
  },
  {
   "cell_type": "code",
   "execution_count": 82,
   "id": "6aa6e31b-9050-43ac-8523-aec6387d9b67",
   "metadata": {},
   "outputs": [
    {
     "data": {
      "text/plain": [
       "'HTML Webpage'"
      ]
     },
     "execution_count": 82,
     "metadata": {},
     "output_type": "execute_result"
    }
   ],
   "source": [
    "# Path syntax\n",
    "soup.body.div.h1.string"
   ]
  },
  {
   "cell_type": "code",
   "execution_count": 87,
   "id": "6cc7c0aa-31be-41b7-a946-be924aa80022",
   "metadata": {},
   "outputs": [
    {
     "data": {
      "text/plain": [
       "[<h2>A Header</h2>,\n",
       " <p><i>Some italicized text</i></p>,\n",
       " <h2>Another header</h2>,\n",
       " <p id=\"paragraph-id\"><b>Some bold text</b></p>]"
      ]
     },
     "execution_count": 87,
     "metadata": {},
     "output_type": "execute_result"
    }
   ],
   "source": [
    "# Know the terms parent, sibling and child\n",
    "# find_next_slblings() returns every sibling aftet the element it is called on\n",
    "# We can check the doc for more of these functions\n",
    "soup.body.find('div').find_next_siblings() "
   ]
  },
  {
   "cell_type": "code",
   "execution_count": null,
   "id": "03d9f114-5705-48be-bd0a-4cfcc386403a",
   "metadata": {},
   "outputs": [],
   "source": []
  }
 ],
 "metadata": {
  "kernelspec": {
   "display_name": "Python 3 (ipykernel)",
   "language": "python",
   "name": "python3"
  },
  "language_info": {
   "codemirror_mode": {
    "name": "ipython",
    "version": 3
   },
   "file_extension": ".py",
   "mimetype": "text/x-python",
   "name": "python",
   "nbconvert_exporter": "python",
   "pygments_lexer": "ipython3",
   "version": "3.10.5"
  }
 },
 "nbformat": 4,
 "nbformat_minor": 5
}
