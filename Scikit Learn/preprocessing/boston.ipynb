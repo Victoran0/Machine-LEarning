{
 "cells": [
  {
   "cell_type": "markdown",
   "id": "be5da9ef-b113-4c2c-abac-4ca1d8fd6ae8",
   "metadata": {},
   "source": [
    "## Using a particular scikit learn version"
   ]
  },
  {
   "cell_type": "code",
   "execution_count": 1,
   "id": "21f5238f-eb4a-43a3-9f2a-b1c25c1a576a",
   "metadata": {
    "scrolled": true
   },
   "outputs": [],
   "source": [
    "import pandas as pd\n",
    "import numpy as np\n",
    "import matplotlib.pyplot as plt"
   ]
  },
  {
   "cell_type": "code",
   "execution_count": 2,
   "id": "c53f5225-d6e4-423b-ba45-4703cd7db5f1",
   "metadata": {},
   "outputs": [],
   "source": [
    "data_url = \"http://lib.stat.cmu.edu/datasets/boston\"\n",
    "raw_df = pd.read_csv(data_url, sep=\"\\s+\", skiprows=22, header=None)\n",
    "data = np.hstack([raw_df.values[::2, :], raw_df.values[1::2, :2]])\n",
    "target = raw_df.values[1::2, 2]"
   ]
  },
  {
   "cell_type": "code",
   "execution_count": 3,
   "id": "9b27c3a2-13c0-40ff-850f-7e04fc0172a3",
   "metadata": {},
   "outputs": [],
   "source": [
    "X,y = data, target"
   ]
  },
  {
   "cell_type": "code",
   "execution_count": 14,
   "id": "63bcbb0f-7f4a-47f7-8d0f-ddc3a0f2a0e0",
   "metadata": {},
   "outputs": [],
   "source": [
    "from sklearn.neighbors import KNeighborsRegressor\n",
    "from sklearn.preprocessing import StandardScaler\n",
    "from sklearn.pipeline import Pipeline\n",
    "from sklearn.linear_model import LinearRegression\n",
    "from sklearn.model_selection import GridSearchCV"
   ]
  },
  {
   "cell_type": "code",
   "execution_count": 19,
   "id": "295656bc-f2cd-4897-b64c-aeb0fea03483",
   "metadata": {},
   "outputs": [],
   "source": [
    "mod = KNeighborsRegressor().fit(X,y)\n",
    "\n",
    "pipe = Pipeline([\n",
    "    ('scale', StandardScaler()),\n",
    "    ('model', KNeighborsRegressor(n_neighbors=1))\n",
    "])\n",
    "# pipe.get_params()"
   ]
  },
  {
   "cell_type": "markdown",
   "id": "09a509fa-4d45-4d73-8041-50f8cccfab0b",
   "metadata": {},
   "source": [
    "## We use grid search cv to split our data into train and predict set automatically, making our model learn and giving us the best outcome"
   ]
  },
  {
   "cell_type": "code",
   "execution_count": 22,
   "id": "3b7ca8c5-8ffe-41f7-bec5-c622d9278998",
   "metadata": {},
   "outputs": [],
   "source": [
    "# cv means cross valudation, the values the estimator take are in pipe already\n",
    "mod = GridSearchCV(estimator=pipe,\n",
    "                   param_grid={'model__n_neighbors':[1,2,3,4,5,6,7,8,9,10]},\n",
    "                   cv=3)"
   ]
  },
  {
   "cell_type": "code",
   "execution_count": 24,
   "id": "c543489e-e956-45a1-840a-5723301b4bd6",
   "metadata": {},
   "outputs": [
    {
     "data": {
      "text/html": [
       "<div>\n",
       "<style scoped>\n",
       "    .dataframe tbody tr th:only-of-type {\n",
       "        vertical-align: middle;\n",
       "    }\n",
       "\n",
       "    .dataframe tbody tr th {\n",
       "        vertical-align: top;\n",
       "    }\n",
       "\n",
       "    .dataframe thead th {\n",
       "        text-align: right;\n",
       "    }\n",
       "</style>\n",
       "<table border=\"1\" class=\"dataframe\">\n",
       "  <thead>\n",
       "    <tr style=\"text-align: right;\">\n",
       "      <th></th>\n",
       "      <th>mean_fit_time</th>\n",
       "      <th>std_fit_time</th>\n",
       "      <th>mean_score_time</th>\n",
       "      <th>std_score_time</th>\n",
       "      <th>param_model__n_neighbors</th>\n",
       "      <th>params</th>\n",
       "      <th>split0_test_score</th>\n",
       "      <th>split1_test_score</th>\n",
       "      <th>split2_test_score</th>\n",
       "      <th>mean_test_score</th>\n",
       "      <th>std_test_score</th>\n",
       "      <th>rank_test_score</th>\n",
       "    </tr>\n",
       "  </thead>\n",
       "  <tbody>\n",
       "    <tr>\n",
       "      <th>0</th>\n",
       "      <td>0.005009</td>\n",
       "      <td>1.418966e-03</td>\n",
       "      <td>0.004530</td>\n",
       "      <td>3.993720e-03</td>\n",
       "      <td>1</td>\n",
       "      <td>{'model__n_neighbors': 1}</td>\n",
       "      <td>0.226933</td>\n",
       "      <td>0.432998</td>\n",
       "      <td>0.127635</td>\n",
       "      <td>0.262522</td>\n",
       "      <td>0.127179</td>\n",
       "      <td>10</td>\n",
       "    </tr>\n",
       "    <tr>\n",
       "      <th>1</th>\n",
       "      <td>0.001667</td>\n",
       "      <td>4.696306e-04</td>\n",
       "      <td>0.002333</td>\n",
       "      <td>4.726070e-04</td>\n",
       "      <td>2</td>\n",
       "      <td>{'model__n_neighbors': 2}</td>\n",
       "      <td>0.358216</td>\n",
       "      <td>0.409229</td>\n",
       "      <td>0.172294</td>\n",
       "      <td>0.313246</td>\n",
       "      <td>0.101821</td>\n",
       "      <td>9</td>\n",
       "    </tr>\n",
       "    <tr>\n",
       "      <th>2</th>\n",
       "      <td>0.001329</td>\n",
       "      <td>4.727826e-04</td>\n",
       "      <td>0.002332</td>\n",
       "      <td>4.714266e-04</td>\n",
       "      <td>3</td>\n",
       "      <td>{'model__n_neighbors': 3}</td>\n",
       "      <td>0.413515</td>\n",
       "      <td>0.476651</td>\n",
       "      <td>0.318534</td>\n",
       "      <td>0.402900</td>\n",
       "      <td>0.064986</td>\n",
       "      <td>1</td>\n",
       "    </tr>\n",
       "    <tr>\n",
       "      <th>3</th>\n",
       "      <td>0.001333</td>\n",
       "      <td>4.712580e-04</td>\n",
       "      <td>0.001666</td>\n",
       "      <td>4.710896e-04</td>\n",
       "      <td>4</td>\n",
       "      <td>{'model__n_neighbors': 4}</td>\n",
       "      <td>0.475349</td>\n",
       "      <td>0.402495</td>\n",
       "      <td>0.273014</td>\n",
       "      <td>0.383619</td>\n",
       "      <td>0.083675</td>\n",
       "      <td>7</td>\n",
       "    </tr>\n",
       "    <tr>\n",
       "      <th>4</th>\n",
       "      <td>0.001334</td>\n",
       "      <td>4.713705e-04</td>\n",
       "      <td>0.001666</td>\n",
       "      <td>4.713142e-04</td>\n",
       "      <td>5</td>\n",
       "      <td>{'model__n_neighbors': 5}</td>\n",
       "      <td>0.512318</td>\n",
       "      <td>0.347951</td>\n",
       "      <td>0.262590</td>\n",
       "      <td>0.374286</td>\n",
       "      <td>0.103638</td>\n",
       "      <td>8</td>\n",
       "    </tr>\n",
       "    <tr>\n",
       "      <th>5</th>\n",
       "      <td>0.001000</td>\n",
       "      <td>1.123916e-07</td>\n",
       "      <td>0.001999</td>\n",
       "      <td>8.485379e-07</td>\n",
       "      <td>6</td>\n",
       "      <td>{'model__n_neighbors': 6}</td>\n",
       "      <td>0.533611</td>\n",
       "      <td>0.389504</td>\n",
       "      <td>0.248482</td>\n",
       "      <td>0.390532</td>\n",
       "      <td>0.116406</td>\n",
       "      <td>6</td>\n",
       "    </tr>\n",
       "    <tr>\n",
       "      <th>6</th>\n",
       "      <td>0.001002</td>\n",
       "      <td>1.030086e-06</td>\n",
       "      <td>0.002019</td>\n",
       "      <td>2.764902e-05</td>\n",
       "      <td>7</td>\n",
       "      <td>{'model__n_neighbors': 7}</td>\n",
       "      <td>0.544782</td>\n",
       "      <td>0.385199</td>\n",
       "      <td>0.243668</td>\n",
       "      <td>0.391216</td>\n",
       "      <td>0.123003</td>\n",
       "      <td>5</td>\n",
       "    </tr>\n",
       "    <tr>\n",
       "      <th>7</th>\n",
       "      <td>0.000000</td>\n",
       "      <td>0.000000e+00</td>\n",
       "      <td>0.000000</td>\n",
       "      <td>0.000000e+00</td>\n",
       "      <td>8</td>\n",
       "      <td>{'model__n_neighbors': 8}</td>\n",
       "      <td>0.589644</td>\n",
       "      <td>0.394650</td>\n",
       "      <td>0.209714</td>\n",
       "      <td>0.398003</td>\n",
       "      <td>0.155124</td>\n",
       "      <td>2</td>\n",
       "    </tr>\n",
       "    <tr>\n",
       "      <th>8</th>\n",
       "      <td>0.000333</td>\n",
       "      <td>4.706960e-04</td>\n",
       "      <td>0.005932</td>\n",
       "      <td>7.020880e-03</td>\n",
       "      <td>9</td>\n",
       "      <td>{'model__n_neighbors': 9}</td>\n",
       "      <td>0.590352</td>\n",
       "      <td>0.407556</td>\n",
       "      <td>0.185253</td>\n",
       "      <td>0.394387</td>\n",
       "      <td>0.165643</td>\n",
       "      <td>3</td>\n",
       "    </tr>\n",
       "    <tr>\n",
       "      <th>9</th>\n",
       "      <td>0.000666</td>\n",
       "      <td>4.710333e-04</td>\n",
       "      <td>0.001000</td>\n",
       "      <td>8.166321e-04</td>\n",
       "      <td>10</td>\n",
       "      <td>{'model__n_neighbors': 10}</td>\n",
       "      <td>0.616510</td>\n",
       "      <td>0.395077</td>\n",
       "      <td>0.164023</td>\n",
       "      <td>0.391870</td>\n",
       "      <td>0.184741</td>\n",
       "      <td>4</td>\n",
       "    </tr>\n",
       "  </tbody>\n",
       "</table>\n",
       "</div>"
      ],
      "text/plain": [
       "   mean_fit_time  std_fit_time  mean_score_time  std_score_time  \\\n",
       "0       0.005009  1.418966e-03         0.004530    3.993720e-03   \n",
       "1       0.001667  4.696306e-04         0.002333    4.726070e-04   \n",
       "2       0.001329  4.727826e-04         0.002332    4.714266e-04   \n",
       "3       0.001333  4.712580e-04         0.001666    4.710896e-04   \n",
       "4       0.001334  4.713705e-04         0.001666    4.713142e-04   \n",
       "5       0.001000  1.123916e-07         0.001999    8.485379e-07   \n",
       "6       0.001002  1.030086e-06         0.002019    2.764902e-05   \n",
       "7       0.000000  0.000000e+00         0.000000    0.000000e+00   \n",
       "8       0.000333  4.706960e-04         0.005932    7.020880e-03   \n",
       "9       0.000666  4.710333e-04         0.001000    8.166321e-04   \n",
       "\n",
       "  param_model__n_neighbors                      params  split0_test_score  \\\n",
       "0                        1   {'model__n_neighbors': 1}           0.226933   \n",
       "1                        2   {'model__n_neighbors': 2}           0.358216   \n",
       "2                        3   {'model__n_neighbors': 3}           0.413515   \n",
       "3                        4   {'model__n_neighbors': 4}           0.475349   \n",
       "4                        5   {'model__n_neighbors': 5}           0.512318   \n",
       "5                        6   {'model__n_neighbors': 6}           0.533611   \n",
       "6                        7   {'model__n_neighbors': 7}           0.544782   \n",
       "7                        8   {'model__n_neighbors': 8}           0.589644   \n",
       "8                        9   {'model__n_neighbors': 9}           0.590352   \n",
       "9                       10  {'model__n_neighbors': 10}           0.616510   \n",
       "\n",
       "   split1_test_score  split2_test_score  mean_test_score  std_test_score  \\\n",
       "0           0.432998           0.127635         0.262522        0.127179   \n",
       "1           0.409229           0.172294         0.313246        0.101821   \n",
       "2           0.476651           0.318534         0.402900        0.064986   \n",
       "3           0.402495           0.273014         0.383619        0.083675   \n",
       "4           0.347951           0.262590         0.374286        0.103638   \n",
       "5           0.389504           0.248482         0.390532        0.116406   \n",
       "6           0.385199           0.243668         0.391216        0.123003   \n",
       "7           0.394650           0.209714         0.398003        0.155124   \n",
       "8           0.407556           0.185253         0.394387        0.165643   \n",
       "9           0.395077           0.164023         0.391870        0.184741   \n",
       "\n",
       "   rank_test_score  \n",
       "0               10  \n",
       "1                9  \n",
       "2                1  \n",
       "3                7  \n",
       "4                8  \n",
       "5                6  \n",
       "6                5  \n",
       "7                2  \n",
       "8                3  \n",
       "9                4  "
      ]
     },
     "execution_count": 24,
     "metadata": {},
     "output_type": "execute_result"
    }
   ],
   "source": [
    "mod.fit(X,y)\n",
    "pd.DataFrame(mod.cv_results_)"
   ]
  },
  {
   "cell_type": "code",
   "execution_count": 12,
   "id": "87271d9f-026b-47a0-8b5d-df2a2c264688",
   "metadata": {},
   "outputs": [],
   "source": [
    "pred = pipe.predict(X)"
   ]
  },
  {
   "cell_type": "code",
   "execution_count": 13,
   "id": "9f267c52-a35d-40f8-a900-cb1830662d4d",
   "metadata": {},
   "outputs": [
    {
     "data": {
      "image/png": "[encoded data removed]",
      "text/plain": [
       "<Figure size 640x480 with 1 Axes>"
      ]
     },
     "metadata": {},
     "output_type": "display_data"
    }
   ],
   "source": [
    "plt.scatter(pred, y)\n",
    "plt.show()"
   ]
  },
  {
   "cell_type": "code",
   "execution_count": null,
   "id": "f1526bda-e22a-44b1-af6c-347c1f814f6f",
   "metadata": {},
   "outputs": [],
   "source": []
  },
  {
   "cell_type": "code",
   "execution_count": null,
   "id": "8d748458-90fc-4707-826d-4a28040111b7",
   "metadata": {},
   "outputs": [],
   "source": []
  },
  {
   "cell_type": "code",
   "execution_count": null,
   "id": "4c2eb1d1-b41f-4eab-967e-df9c3641ce96",
   "metadata": {},
   "outputs": [],
   "source": []
  },
  {
   "cell_type": "code",
   "execution_count": null,
   "id": "c07c8d38-ae6c-4a22-b905-c42aa3e8f4cc",
   "metadata": {},
   "outputs": [],
   "source": []
  },
  {
   "cell_type": "code",
   "execution_count": null,
   "id": "cb3d3943-0a05-474d-ab9d-252c62765e84",
   "metadata": {},
   "outputs": [],
   "source": []
  },
  {
   "cell_type": "code",
   "execution_count": null,
   "id": "9e65b567-a213-4c02-8844-0daab65f64e3",
   "metadata": {},
   "outputs": [],
   "source": []
  },
  {
   "cell_type": "code",
   "execution_count": null,
   "id": "82b27b71-1675-4dc6-8650-dc3c96eb5b20",
   "metadata": {},
   "outputs": [],
   "source": []
  },
  {
   "cell_type": "code",
   "execution_count": null,
   "id": "f0d595c3-d65f-49c8-925b-3fe6c5f2b55c",
   "metadata": {},
   "outputs": [],
   "source": []
  },
  {
   "cell_type": "code",
   "execution_count": null,
   "id": "20d85d20-0475-4d0b-9022-b3ebf350e440",
   "metadata": {},
   "outputs": [],
   "source": []
  },
  {
   "cell_type": "code",
   "execution_count": null,
   "id": "61639a8d-b3b4-4138-bf4c-9a95949ff3aa",
   "metadata": {},
   "outputs": [],
   "source": []
  },
  {
   "cell_type": "code",
   "execution_count": null,
   "id": "8f6b2405-1184-4dec-aa61-918aaaede713",
   "metadata": {},
   "outputs": [],
   "source": []
  },
  {
   "cell_type": "code",
   "execution_count": null,
   "id": "16502ff9-25ec-4787-a08c-e241594c09a7",
   "metadata": {},
   "outputs": [],
   "source": []
  }
 ],
 "metadata": {
  "kernelspec": {
   "display_name": "Python 3 (ipykernel)",
   "language": "python",
   "name": "python3"
  },
  "language_info": {
   "codemirror_mode": {
    "name": "ipython",
    "version": 3
   },
   "file_extension": ".py",
   "mimetype": "text/x-python",
   "name": "python",
   "nbconvert_exporter": "python",
   "pygments_lexer": "ipython3",
   "version": "3.10.5"
  }
 },
 "nbformat": 4,
 "nbformat_minor": 5
}
